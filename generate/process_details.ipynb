{
 "cells": [
  {
   "cell_type": "code",
   "execution_count": 2,
   "metadata": {
    "colab": {
     "base_uri": "https://localhost:8080/"
    },
    "id": "lhaVUO952e_m",
    "outputId": "23236de6-3f47-4dfc-bacc-3cce8cf29f0d"
   },
   "outputs": [
    {
     "name": "stdout",
     "output_type": "stream",
     "text": [
      "Requirement already satisfied: datasets in /home/luca/.pyenv/versions/3.12.3/lib/python3.12/site-packages (3.0.1)\n",
      "Requirement already satisfied: python-dotenv in /home/luca/.pyenv/versions/3.12.3/lib/python3.12/site-packages (1.0.1)\n",
      "Requirement already satisfied: filelock in /home/luca/.pyenv/versions/3.12.3/lib/python3.12/site-packages (from datasets) (3.14.0)\n",
      "Requirement already satisfied: numpy>=1.17 in /home/luca/.pyenv/versions/3.12.3/lib/python3.12/site-packages (from datasets) (1.26.4)\n",
      "Requirement already satisfied: pyarrow>=15.0.0 in /home/luca/.pyenv/versions/3.12.3/lib/python3.12/site-packages (from datasets) (17.0.0)\n",
      "Requirement already satisfied: dill<0.3.9,>=0.3.0 in /home/luca/.pyenv/versions/3.12.3/lib/python3.12/site-packages (from datasets) (0.3.8)\n",
      "Requirement already satisfied: pandas in /home/luca/.pyenv/versions/3.12.3/lib/python3.12/site-packages (from datasets) (2.2.3)\n",
      "Requirement already satisfied: requests>=2.32.2 in /home/luca/.pyenv/versions/3.12.3/lib/python3.12/site-packages (from datasets) (2.32.3)\n",
      "Requirement already satisfied: tqdm>=4.66.3 in /home/luca/.pyenv/versions/3.12.3/lib/python3.12/site-packages (from datasets) (4.66.4)\n",
      "Requirement already satisfied: xxhash in /home/luca/.pyenv/versions/3.12.3/lib/python3.12/site-packages (from datasets) (3.5.0)\n",
      "Requirement already satisfied: multiprocess in /home/luca/.pyenv/versions/3.12.3/lib/python3.12/site-packages (from datasets) (0.70.16)\n",
      "Requirement already satisfied: fsspec<=2024.6.1,>=2023.1.0 in /home/luca/.pyenv/versions/3.12.3/lib/python3.12/site-packages (from fsspec[http]<=2024.6.1,>=2023.1.0->datasets) (2024.6.0)\n",
      "Requirement already satisfied: aiohttp in /home/luca/.pyenv/versions/3.12.3/lib/python3.12/site-packages (from datasets) (3.10.5)\n",
      "Requirement already satisfied: huggingface-hub>=0.22.0 in /home/luca/.pyenv/versions/3.12.3/lib/python3.12/site-packages (from datasets) (0.23.3)\n",
      "Requirement already satisfied: packaging in /home/luca/.pyenv/versions/3.12.3/lib/python3.12/site-packages (from datasets) (24.0)\n",
      "Requirement already satisfied: pyyaml>=5.1 in /home/luca/.pyenv/versions/3.12.3/lib/python3.12/site-packages (from datasets) (6.0.1)\n",
      "Requirement already satisfied: aiohappyeyeballs>=2.3.0 in /home/luca/.pyenv/versions/3.12.3/lib/python3.12/site-packages (from aiohttp->datasets) (2.4.0)\n",
      "Requirement already satisfied: aiosignal>=1.1.2 in /home/luca/.pyenv/versions/3.12.3/lib/python3.12/site-packages (from aiohttp->datasets) (1.3.1)\n",
      "Requirement already satisfied: attrs>=17.3.0 in /home/luca/.pyenv/versions/3.12.3/lib/python3.12/site-packages (from aiohttp->datasets) (24.2.0)\n",
      "Requirement already satisfied: frozenlist>=1.1.1 in /home/luca/.pyenv/versions/3.12.3/lib/python3.12/site-packages (from aiohttp->datasets) (1.4.1)\n",
      "Requirement already satisfied: multidict<7.0,>=4.5 in /home/luca/.pyenv/versions/3.12.3/lib/python3.12/site-packages (from aiohttp->datasets) (6.1.0)\n",
      "Requirement already satisfied: yarl<2.0,>=1.0 in /home/luca/.pyenv/versions/3.12.3/lib/python3.12/site-packages (from aiohttp->datasets) (1.11.1)\n",
      "Requirement already satisfied: typing-extensions>=3.7.4.3 in /home/luca/.pyenv/versions/3.12.3/lib/python3.12/site-packages (from huggingface-hub>=0.22.0->datasets) (4.12.2)\n",
      "Requirement already satisfied: charset-normalizer<4,>=2 in /home/luca/.pyenv/versions/3.12.3/lib/python3.12/site-packages (from requests>=2.32.2->datasets) (3.3.2)\n",
      "Requirement already satisfied: idna<4,>=2.5 in /home/luca/.pyenv/versions/3.12.3/lib/python3.12/site-packages (from requests>=2.32.2->datasets) (3.7)\n",
      "Requirement already satisfied: urllib3<3,>=1.21.1 in /home/luca/.pyenv/versions/3.12.3/lib/python3.12/site-packages (from requests>=2.32.2->datasets) (2.2.1)\n",
      "Requirement already satisfied: certifi>=2017.4.17 in /home/luca/.pyenv/versions/3.12.3/lib/python3.12/site-packages (from requests>=2.32.2->datasets) (2024.6.2)\n",
      "Requirement already satisfied: python-dateutil>=2.8.2 in /home/luca/.pyenv/versions/3.12.3/lib/python3.12/site-packages (from pandas->datasets) (2.9.0.post0)\n",
      "Requirement already satisfied: pytz>=2020.1 in /home/luca/.pyenv/versions/3.12.3/lib/python3.12/site-packages (from pandas->datasets) (2024.2)\n",
      "Requirement already satisfied: tzdata>=2022.7 in /home/luca/.pyenv/versions/3.12.3/lib/python3.12/site-packages (from pandas->datasets) (2024.2)\n",
      "Requirement already satisfied: six>=1.5 in /home/luca/.pyenv/versions/3.12.3/lib/python3.12/site-packages (from python-dateutil>=2.8.2->pandas->datasets) (1.16.0)\n",
      "\n",
      "\u001b[1m[\u001b[0m\u001b[34;49mnotice\u001b[0m\u001b[1;39;49m]\u001b[0m\u001b[39;49m A new release of pip is available: \u001b[0m\u001b[31;49m24.0\u001b[0m\u001b[39;49m -> \u001b[0m\u001b[32;49m24.2\u001b[0m\n",
      "\u001b[1m[\u001b[0m\u001b[34;49mnotice\u001b[0m\u001b[1;39;49m]\u001b[0m\u001b[39;49m To update, run: \u001b[0m\u001b[32;49mpip install --upgrade pip\u001b[0m\n",
      "Note: you may need to restart the kernel to use updated packages.\n"
     ]
    },
    {
     "data": {
      "text/plain": [
       "True"
      ]
     },
     "execution_count": 2,
     "metadata": {},
     "output_type": "execute_result"
    }
   ],
   "source": [
    "#%pip install torch --index-url https://download.pytorch.org/whl/cpu\n",
    "%pip install datasets python-dotenv\n",
    "\n",
    "from utils import *"
   ]
  },
  {
   "cell_type": "code",
   "execution_count": 10,
   "metadata": {},
   "outputs": [
    {
     "name": "stderr",
     "output_type": "stream",
     "text": [
      "Map (num_proc=4):   0%|          | 0/1000 [00:00<?, ? examples/s]"
     ]
    },
    {
     "name": "stdout",
     "output_type": "stream",
     "text": [
      "{'profession': 'Receptionist', 'process': 'Administrative Support'}\n",
      "Traceback (most recent call last):\n",
      "  File \"/tmp/ipykernel_2349765/420438122.py\", line 20, in batch_map\n",
      "    results = results + fn(example)\n",
      "                        ^^^^^^^^^^^\n",
      "  File \"/tmp/ipykernel_2349765/1408341564.py\", line 196, in generate_process_details\n",
      "    \"description\": process_detail[\"description\"],\n",
      "                   ~~~~~~~~~~~~~~^^^^^^^^^^^^^^^\n",
      "KeyError: 'description'\n",
      "\n"
     ]
    },
    {
     "name": "stderr",
     "output_type": "stream",
     "text": [
      "Map (num_proc=4):   2%|▏         | 24/1000 [01:32<51:20,  3.16s/ examples]  "
     ]
    },
    {
     "name": "stdout",
     "output_type": "stream",
     "text": [
      "{'profession': 'Sports Coach', 'process': 'Equipment Management'}\n",
      "Traceback (most recent call last):\n",
      "  File \"/tmp/ipykernel_2349765/420438122.py\", line 20, in batch_map\n",
      "    results = results + fn(example)\n",
      "                        ^^^^^^^^^^^\n",
      "  File \"/tmp/ipykernel_2349765/1408341564.py\", line 196, in generate_process_details\n",
      "    \"description\": process_detail[\"description\"],\n",
      "                   ~~~~~~~~~~~~~~^^^^^^^^^^^^^^^\n",
      "KeyError: 'description'\n",
      "\n",
      "{'profession': 'Financial Advisor', 'process': 'Market Research'}\n",
      "Traceback (most recent call last):\n",
      "  File \"/tmp/ipykernel_2349765/420438122.py\", line 20, in batch_map\n",
      "    results = results + fn(example)\n",
      "                        ^^^^^^^^^^^\n",
      "  File \"/tmp/ipykernel_2349765/1408341564.py\", line 206, in generate_process_details\n",
      "    \"sourroundings\": process_detail[\"sourroundings\"],\n",
      "                     ~~~~~~~~~~~~~~^^^^^^^^^^^^^^^^^\n",
      "KeyError: 'sourroundings'\n",
      "\n"
     ]
    },
    {
     "name": "stderr",
     "output_type": "stream",
     "text": [
      "Map (num_proc=4):   3%|▎         | 28/1000 [02:00<1:10:53,  4.38s/ examples]"
     ]
    },
    {
     "name": "stdout",
     "output_type": "stream",
     "text": [
      "{'profession': 'Financial Advisor', 'process': 'Compliance Monitoring'}\n",
      "Traceback (most recent call last):\n",
      "  File \"/tmp/ipykernel_2349765/420438122.py\", line 20, in batch_map\n",
      "    results = results + fn(example)\n",
      "                        ^^^^^^^^^^^\n",
      "  File \"/tmp/ipykernel_2349765/1408341564.py\", line 196, in generate_process_details\n",
      "    \"description\": process_detail[\"description\"],\n",
      "                   ~~~~~~~~~~~~~~^^^^^^^^^^^^^^^\n",
      "KeyError: 'description'\n",
      "\n"
     ]
    },
    {
     "name": "stderr",
     "output_type": "stream",
     "text": [
      "Map (num_proc=4):   4%|▍         | 40/1000 [02:09<30:54,  1.93s/ examples]  "
     ]
    },
    {
     "name": "stdout",
     "output_type": "stream",
     "text": [
      "{'profession': 'Personal Care Aide', 'process': 'Meal Preparation'}\n",
      "Traceback (most recent call last):\n",
      "  File \"/tmp/ipykernel_2349765/420438122.py\", line 20, in batch_map\n",
      "    results = results + fn(example)\n",
      "                        ^^^^^^^^^^^\n",
      "  File \"/tmp/ipykernel_2349765/1408341564.py\", line 196, in generate_process_details\n",
      "    \"description\": process_detail[\"description\"],\n",
      "                   ~~~~~~~~~~~~~~^^^^^^^^^^^^^^^\n",
      "KeyError: 'description'\n",
      "\n"
     ]
    },
    {
     "name": "stderr",
     "output_type": "stream",
     "text": [
      "Map (num_proc=4):   4%|▍         | 44/1000 [02:35<53:21,  3.35s/ examples]"
     ]
    },
    {
     "name": "stdout",
     "output_type": "stream",
     "text": [
      "{'profession': 'Administrative Assistant', 'process': 'Office Supply Management'}\n",
      "Traceback (most recent call last):\n",
      "  File \"/tmp/ipykernel_2349765/420438122.py\", line 20, in batch_map\n",
      "    results = results + fn(example)\n",
      "                        ^^^^^^^^^^^\n",
      "  File \"/tmp/ipykernel_2349765/1408341564.py\", line 196, in generate_process_details\n",
      "    \"description\": process_detail[\"description\"],\n",
      "                   ~~~~~~~~~~~~~~^^^^^^^^^^^^^^^\n",
      "KeyError: 'description'\n",
      "\n"
     ]
    },
    {
     "name": "stderr",
     "output_type": "stream",
     "text": [
      "Map (num_proc=4):   7%|▋         | 72/1000 [03:47<38:38,  2.50s/ examples]"
     ]
    },
    {
     "name": "stdout",
     "output_type": "stream",
     "text": [
      "{'profession': 'Landscaper & Groundskeeper', 'process': 'Fertilizing'}\n",
      "Traceback (most recent call last):\n",
      "  File \"/tmp/ipykernel_2349765/420438122.py\", line 20, in batch_map\n",
      "    results = results + fn(example)\n",
      "                        ^^^^^^^^^^^\n",
      "  File \"/tmp/ipykernel_2349765/1408341564.py\", line 206, in generate_process_details\n",
      "    \"sourroundings\": process_detail[\"sourroundings\"],\n",
      "                     ~~~~~~~~~~~~~~^^^^^^^^^^^^^^^^^\n",
      "KeyError: 'sourroundings'\n",
      "\n"
     ]
    },
    {
     "name": "stderr",
     "output_type": "stream",
     "text": [
      "Map (num_proc=4):   8%|▊         | 76/1000 [03:54<35:27,  2.30s/ examples]"
     ]
    },
    {
     "name": "stdout",
     "output_type": "stream",
     "text": [
      "{'profession': 'Diagnostic Medical Sonographer', 'process': 'Continuing Education'}\n",
      "Traceback (most recent call last):\n",
      "  File \"/tmp/ipykernel_2349765/420438122.py\", line 20, in batch_map\n",
      "    results = results + fn(example)\n",
      "                        ^^^^^^^^^^^\n",
      "  File \"/tmp/ipykernel_2349765/1408341564.py\", line 196, in generate_process_details\n",
      "    \"description\": process_detail[\"description\"],\n",
      "                   ~~~~~~~~~~~~~~^^^^^^^^^^^^^^^\n",
      "KeyError: 'description'\n",
      "\n"
     ]
    },
    {
     "name": "stderr",
     "output_type": "stream",
     "text": [
      "Map (num_proc=4):   9%|▉         | 88/1000 [04:18<28:43,  1.89s/ examples]"
     ]
    },
    {
     "name": "stdout",
     "output_type": "stream",
     "text": [
      "{'profession': 'High School Teacher', 'process': 'Administrative Tasks'}\n",
      "Traceback (most recent call last):\n",
      "  File \"/tmp/ipykernel_2349765/420438122.py\", line 20, in batch_map\n",
      "    results = results + fn(example)\n",
      "                        ^^^^^^^^^^^\n",
      "  File \"/tmp/ipykernel_2349765/1408341564.py\", line 196, in generate_process_details\n",
      "    \"description\": process_detail[\"description\"],\n",
      "                   ~~~~~~~~~~~~~~^^^^^^^^^^^^^^^\n",
      "KeyError: 'description'\n",
      "\n"
     ]
    },
    {
     "name": "stderr",
     "output_type": "stream",
     "text": [
      "Map (num_proc=4):   9%|▉         | 92/1000 [04:41<45:05,  2.98s/ examples]"
     ]
    },
    {
     "name": "stdout",
     "output_type": "stream",
     "text": [
      "{'profession': 'Loan Officer', 'process': 'Interest Rate Determination'}\n",
      "Traceback (most recent call last):\n",
      "  File \"/tmp/ipykernel_2349765/420438122.py\", line 20, in batch_map\n",
      "    results = results + fn(example)\n",
      "                        ^^^^^^^^^^^\n",
      "  File \"/tmp/ipykernel_2349765/1408341564.py\", line 206, in generate_process_details\n",
      "    \"sourroundings\": process_detail[\"sourroundings\"],\n",
      "                     ~~~~~~~~~~~~~~^^^^^^^^^^^^^^^^^\n",
      "KeyError: 'sourroundings'\n",
      "\n"
     ]
    },
    {
     "name": "stderr",
     "output_type": "stream",
     "text": [
      "Map (num_proc=4):  10%|▉         | 96/1000 [04:48<39:16,  2.61s/ examples]"
     ]
    },
    {
     "name": "stdout",
     "output_type": "stream",
     "text": [
      "{'profession': 'Construction Manager', 'process': 'Risk Management'}\n",
      "Traceback (most recent call last):\n",
      "  File \"/tmp/ipykernel_2349765/420438122.py\", line 20, in batch_map\n",
      "    results = results + fn(example)\n",
      "                        ^^^^^^^^^^^\n",
      "  File \"/tmp/ipykernel_2349765/1408341564.py\", line 196, in generate_process_details\n",
      "    \"description\": process_detail[\"description\"],\n",
      "                   ~~~~~~~~~~~~~~^^^^^^^^^^^^^^^\n",
      "KeyError: 'description'\n",
      "\n"
     ]
    },
    {
     "name": "stderr",
     "output_type": "stream",
     "text": [
      "Map (num_proc=4):  11%|█         | 112/1000 [05:40<39:04,  2.64s/ examples]  "
     ]
    },
    {
     "name": "stdout",
     "output_type": "stream",
     "text": [
      "{'profession': 'Brickmason & Blockmason', 'process': 'Block Setting'}\n",
      "Traceback (most recent call last):\n",
      "  File \"/tmp/ipykernel_2349765/420438122.py\", line 20, in batch_map\n",
      "    results = results + fn(example)\n",
      "                        ^^^^^^^^^^^\n",
      "  File \"/tmp/ipykernel_2349765/1408341564.py\", line 196, in generate_process_details\n",
      "    \"description\": process_detail[\"description\"],\n",
      "                   ~~~~~~~~~~~~~~^^^^^^^^^^^^^^^\n",
      "KeyError: 'description'\n",
      "\n",
      "{'profession': 'Dental Assistant', 'process': 'Patient Records Management'}\n",
      "Traceback (most recent call last):\n",
      "  File \"/tmp/ipykernel_2349765/420438122.py\", line 20, in batch_map\n",
      "    results = results + fn(example)\n",
      "                        ^^^^^^^^^^^\n",
      "  File \"/tmp/ipykernel_2349765/1408341564.py\", line 196, in generate_process_details\n",
      "    \"description\": process_detail[\"description\"],\n",
      "                   ~~~~~~~~~~~~~~^^^^^^^^^^^^^^^\n",
      "KeyError: 'description'\n",
      "\n"
     ]
    },
    {
     "name": "stderr",
     "output_type": "stream",
     "text": [
      "Map (num_proc=4):  13%|█▎        | 128/1000 [06:49<1:07:18,  4.63s/ examples]"
     ]
    },
    {
     "name": "stdout",
     "output_type": "stream",
     "text": [
      "{'profession': 'Civil Engineer', 'process': 'Regulatory Compliance'}\n",
      "Traceback (most recent call last):\n",
      "  File \"/tmp/ipykernel_2349765/420438122.py\", line 20, in batch_map\n",
      "    results = results + fn(example)\n",
      "                        ^^^^^^^^^^^\n",
      "  File \"/tmp/ipykernel_2349765/1408341564.py\", line 196, in generate_process_details\n",
      "    \"description\": process_detail[\"description\"],\n",
      "                   ~~~~~~~~~~~~~~^^^^^^^^^^^^^^^\n",
      "KeyError: 'description'\n",
      "\n"
     ]
    },
    {
     "name": "stderr",
     "output_type": "stream",
     "text": [
      "Map (num_proc=4):  14%|█▍        | 144/1000 [07:22<35:28,  2.49s/ examples]  "
     ]
    },
    {
     "name": "stdout",
     "output_type": "stream",
     "text": [
      "{'profession': 'Electrician', 'process': 'Train Junior Electricians'}\n",
      "Traceback (most recent call last):\n",
      "  File \"/tmp/ipykernel_2349765/420438122.py\", line 20, in batch_map\n",
      "    results = results + fn(example)\n",
      "                        ^^^^^^^^^^^\n",
      "  File \"/tmp/ipykernel_2349765/1408341564.py\", line 196, in generate_process_details\n",
      "    \"description\": process_detail[\"description\"],\n",
      "                   ~~~~~~~~~~~~~~^^^^^^^^^^^^^^^\n",
      "KeyError: 'description'\n",
      "\n",
      "{'profession': 'Auto Mechanic', 'process': 'Vehicle Inspection'}\n",
      "Traceback (most recent call last):\n",
      "  File \"/tmp/ipykernel_2349765/420438122.py\", line 20, in batch_map\n",
      "    results = results + fn(example)\n",
      "                        ^^^^^^^^^^^\n",
      "  File \"/tmp/ipykernel_2349765/1408341564.py\", line 196, in generate_process_details\n",
      "    \"description\": process_detail[\"description\"],\n",
      "                   ~~~~~~~~~~~~~~^^^^^^^^^^^^^^^\n",
      "KeyError: 'description'\n",
      "\n"
     ]
    },
    {
     "name": "stderr",
     "output_type": "stream",
     "text": [
      "Map (num_proc=4):  16%|█▌        | 156/1000 [08:00<36:24,  2.59s/ examples]"
     ]
    },
    {
     "name": "stdout",
     "output_type": "stream",
     "text": [
      "{'profession': 'School Counselor', 'process': 'Crisis Intervention'}\n",
      "Traceback (most recent call last):\n",
      "  File \"/tmp/ipykernel_2349765/420438122.py\", line 20, in batch_map\n",
      "    results = results + fn(example)\n",
      "                        ^^^^^^^^^^^\n",
      "  File \"/tmp/ipykernel_2349765/1408341564.py\", line 196, in generate_process_details\n",
      "    \"description\": process_detail[\"description\"],\n",
      "                   ~~~~~~~~~~~~~~^^^^^^^^^^^^^^^\n",
      "KeyError: 'description'\n",
      "\n"
     ]
    },
    {
     "name": "stderr",
     "output_type": "stream",
     "text": [
      "Map (num_proc=4):  18%|█▊        | 176/1000 [09:14<51:05,  3.72s/ examples]"
     ]
    },
    {
     "name": "stdout",
     "output_type": "stream",
     "text": [
      "{'profession': 'Maintenance & Repair Worker', 'process': 'Keeping Records'}\n",
      "Traceback (most recent call last):\n",
      "  File \"/tmp/ipykernel_2349765/420438122.py\", line 20, in batch_map\n",
      "    results = results + fn(example)\n",
      "                        ^^^^^^^^^^^\n",
      "  File \"/tmp/ipykernel_2349765/1408341564.py\", line 196, in generate_process_details\n",
      "    \"description\": process_detail[\"description\"],\n",
      "                   ~~~~~~~~~~~~~~^^^^^^^^^^^^^^^\n",
      "KeyError: 'description'\n",
      "\n"
     ]
    },
    {
     "name": "stderr",
     "output_type": "stream",
     "text": [
      "Map (num_proc=4):  20%|██        | 204/1000 [10:37<36:03,  2.72s/ examples]"
     ]
    },
    {
     "name": "stdout",
     "output_type": "stream",
     "text": [
      "{'profession': 'Painter', 'process': 'Business Management'}\n",
      "Traceback (most recent call last):\n",
      "  File \"/tmp/ipykernel_2349765/420438122.py\", line 20, in batch_map\n",
      "    results = results + fn(example)\n",
      "                        ^^^^^^^^^^^\n",
      "  File \"/tmp/ipykernel_2349765/1408341564.py\", line 196, in generate_process_details\n",
      "    \"description\": process_detail[\"description\"],\n",
      "                   ~~~~~~~~~~~~~~^^^^^^^^^^^^^^^\n",
      "KeyError: 'description'\n",
      "\n"
     ]
    },
    {
     "name": "stderr",
     "output_type": "stream",
     "text": [
      "Map (num_proc=4):  21%|██        | 212/1000 [10:52<31:19,  2.38s/ examples]"
     ]
    },
    {
     "name": "stdout",
     "output_type": "stream",
     "text": [
      "{'profession': 'Business Operations Manager', 'process': 'Customer Relationship Management'}\n",
      "Traceback (most recent call last):\n",
      "  File \"/tmp/ipykernel_2349765/420438122.py\", line 20, in batch_map\n",
      "    results = results + fn(example)\n",
      "                        ^^^^^^^^^^^\n",
      "  File \"/tmp/ipykernel_2349765/1408341564.py\", line 196, in generate_process_details\n",
      "    \"description\": process_detail[\"description\"],\n",
      "                   ~~~~~~~~~~~~~~^^^^^^^^^^^^^^^\n",
      "KeyError: 'description'\n",
      "\n",
      "{'profession': 'Delivery Truck Driver', 'process': 'Vehicle Inspection'}\n",
      "Traceback (most recent call last):\n",
      "  File \"/tmp/ipykernel_2349765/420438122.py\", line 20, in batch_map\n",
      "    results = results + fn(example)\n",
      "                        ^^^^^^^^^^^\n",
      "  File \"/tmp/ipykernel_2349765/1408341564.py\", line 196, in generate_process_details\n",
      "    \"description\": process_detail[\"description\"],\n",
      "                   ~~~~~~~~~~~~~~^^^^^^^^^^^^^^^\n",
      "KeyError: 'description'\n",
      "\n",
      "{'profession': 'Sales Representative', 'process': 'Prospecting'}\n",
      "Traceback (most recent call last):\n",
      "  File \"/tmp/ipykernel_2349765/420438122.py\", line 20, in batch_map\n",
      "    results = results + fn(example)\n",
      "                        ^^^^^^^^^^^\n",
      "  File \"/tmp/ipykernel_2349765/1408341564.py\", line 196, in generate_process_details\n",
      "    \"description\": process_detail[\"description\"],\n",
      "                   ~~~~~~~~~~~~~~^^^^^^^^^^^^^^^\n",
      "KeyError: 'description'\n",
      "\n"
     ]
    },
    {
     "name": "stderr",
     "output_type": "stream",
     "text": [
      "Map (num_proc=4):  22%|██▏       | 216/1000 [11:07<36:53,  2.82s/ examples]"
     ]
    },
    {
     "name": "stdout",
     "output_type": "stream",
     "text": [
      "{'profession': 'Construction Worker', 'process': 'Material Procurement'}\n",
      "Traceback (most recent call last):\n",
      "  File \"/tmp/ipykernel_2349765/420438122.py\", line 20, in batch_map\n",
      "    results = results + fn(example)\n",
      "                        ^^^^^^^^^^^\n",
      "  File \"/tmp/ipykernel_2349765/1408341564.py\", line 196, in generate_process_details\n",
      "    \"description\": process_detail[\"description\"],\n",
      "                   ~~~~~~~~~~~~~~^^^^^^^^^^^^^^^\n",
      "KeyError: 'description'\n",
      "\n"
     ]
    },
    {
     "name": "stderr",
     "output_type": "stream",
     "text": [
      "Map (num_proc=4):  22%|██▏       | 224/1000 [11:28<32:16,  2.50s/ examples]"
     ]
    },
    {
     "name": "stdout",
     "output_type": "stream",
     "text": [
      "{'profession': 'Respiratory Therapist', 'process': 'Patient Assessment'}\n",
      "Traceback (most recent call last):\n",
      "  File \"/tmp/ipykernel_2349765/420438122.py\", line 20, in batch_map\n",
      "    results = results + fn(example)\n",
      "                        ^^^^^^^^^^^\n",
      "  File \"/tmp/ipykernel_2349765/1408341564.py\", line 196, in generate_process_details\n",
      "    \"description\": process_detail[\"description\"],\n",
      "                   ~~~~~~~~~~~~~~^^^^^^^^^^^^^^^\n",
      "KeyError: 'description'\n",
      "\n"
     ]
    },
    {
     "name": "stderr",
     "output_type": "stream",
     "text": [
      "Map (num_proc=4):  23%|██▎       | 228/1000 [11:42<35:42,  2.78s/ examples]"
     ]
    },
    {
     "name": "stdout",
     "output_type": "stream",
     "text": [
      "{'profession': 'Physical Therapist', 'process': 'Treatment Planning'}\n",
      "Traceback (most recent call last):\n",
      "  File \"/tmp/ipykernel_2349765/420438122.py\", line 20, in batch_map\n",
      "    results = results + fn(example)\n",
      "                        ^^^^^^^^^^^\n",
      "  File \"/tmp/ipykernel_2349765/1408341564.py\", line 196, in generate_process_details\n",
      "    \"description\": process_detail[\"description\"],\n",
      "                   ~~~~~~~~~~~~~~^^^^^^^^^^^^^^^\n",
      "KeyError: 'description'\n",
      "\n"
     ]
    },
    {
     "name": "stderr",
     "output_type": "stream",
     "text": [
      "Map (num_proc=4):  23%|██▎       | 232/1000 [11:48<31:00,  2.42s/ examples]"
     ]
    },
    {
     "name": "stdout",
     "output_type": "stream",
     "text": [
      "{'profession': 'Physical Therapist', 'process': 'Referral Management'}\n",
      "Traceback (most recent call last):\n",
      "  File \"/tmp/ipykernel_2349765/420438122.py\", line 20, in batch_map\n",
      "    results = results + fn(example)\n",
      "                        ^^^^^^^^^^^\n",
      "  File \"/tmp/ipykernel_2349765/1408341564.py\", line 196, in generate_process_details\n",
      "    \"description\": process_detail[\"description\"],\n",
      "                   ~~~~~~~~~~~~~~^^^^^^^^^^^^^^^\n",
      "KeyError: 'description'\n",
      "\n"
     ]
    },
    {
     "name": "stderr",
     "output_type": "stream",
     "text": [
      "Map (num_proc=4):  26%|██▌       | 260/1000 [13:10<27:06,  2.20s/ examples]"
     ]
    },
    {
     "name": "stdout",
     "output_type": "stream",
     "text": [
      "{'profession': 'Computer Systems Analyst', 'process': 'Hardware Evaluation'}\n",
      "Traceback (most recent call last):\n",
      "  File \"/tmp/ipykernel_2349765/420438122.py\", line 20, in batch_map\n",
      "    results = results + fn(example)\n",
      "                        ^^^^^^^^^^^\n",
      "  File \"/tmp/ipykernel_2349765/1408341564.py\", line 196, in generate_process_details\n",
      "    \"description\": process_detail[\"description\"],\n",
      "                   ~~~~~~~~~~~~~~^^^^^^^^^^^^^^^\n",
      "KeyError: 'description'\n",
      "\n"
     ]
    },
    {
     "name": "stderr",
     "output_type": "stream",
     "text": [
      "Map (num_proc=4):  28%|██▊       | 284/1000 [14:45<36:10,  3.03s/ examples]"
     ]
    },
    {
     "name": "stdout",
     "output_type": "stream",
     "text": [
      "{'profession': 'Fabricator', 'process': 'Quality Control'}\n",
      "Traceback (most recent call last):\n",
      "  File \"/tmp/ipykernel_2349765/420438122.py\", line 20, in batch_map\n",
      "    results = results + fn(example)\n",
      "                        ^^^^^^^^^^^\n",
      "  File \"/tmp/ipykernel_2349765/1408341564.py\", line 197, in generate_process_details\n",
      "    \"location1\": process_detail[\"location1\"],\n",
      "                 ~~~~~~~~~~~~~~^^^^^^^^^^^^^\n",
      "KeyError: 'location1'\n",
      "\n"
     ]
    },
    {
     "name": "stderr",
     "output_type": "stream",
     "text": [
      "Map (num_proc=4):  29%|██▉       | 292/1000 [15:06<31:35,  2.68s/ examples]"
     ]
    },
    {
     "name": "stdout",
     "output_type": "stream",
     "text": [
      "{'profession': 'Maid & Housekeeper', 'process': 'Window Cleaning'}\n",
      "Traceback (most recent call last):\n",
      "  File \"/tmp/ipykernel_2349765/420438122.py\", line 20, in batch_map\n",
      "    results = results + fn(example)\n",
      "                        ^^^^^^^^^^^\n",
      "  File \"/tmp/ipykernel_2349765/1408341564.py\", line 196, in generate_process_details\n",
      "    \"description\": process_detail[\"description\"],\n",
      "                   ~~~~~~~~~~~~~~^^^^^^^^^^^^^^^\n",
      "KeyError: 'description'\n",
      "\n"
     ]
    },
    {
     "name": "stderr",
     "output_type": "stream",
     "text": [
      "Map (num_proc=4):  31%|███       | 308/1000 [16:19<46:27,  4.03s/ examples]"
     ]
    },
    {
     "name": "stdout",
     "output_type": "stream",
     "text": [
      "{'profession': 'Dental Assistant', 'process': 'Insurance Processing'}\n",
      "Traceback (most recent call last):\n",
      "  File \"/tmp/ipykernel_2349765/420438122.py\", line 20, in batch_map\n",
      "    results = results + fn(example)\n",
      "                        ^^^^^^^^^^^\n",
      "  File \"/tmp/ipykernel_2349765/1408341564.py\", line 196, in generate_process_details\n",
      "    \"description\": process_detail[\"description\"],\n",
      "                   ~~~~~~~~~~~~~~^^^^^^^^^^^^^^^\n",
      "KeyError: 'description'\n",
      "\n"
     ]
    },
    {
     "name": "stderr",
     "output_type": "stream",
     "text": [
      "Map (num_proc=4):  32%|███▏      | 316/1000 [16:46<41:48,  3.67s/ examples]"
     ]
    },
    {
     "name": "stdout",
     "output_type": "stream",
     "text": [
      "{'profession': 'Dental Hygienist', 'process': 'Fluoride Treatment'}\n",
      "Traceback (most recent call last):\n",
      "  File \"/tmp/ipykernel_2349765/420438122.py\", line 20, in batch_map\n",
      "    results = results + fn(example)\n",
      "                        ^^^^^^^^^^^\n",
      "  File \"/tmp/ipykernel_2349765/1408341564.py\", line 196, in generate_process_details\n",
      "    \"description\": process_detail[\"description\"],\n",
      "                   ~~~~~~~~~~~~~~^^^^^^^^^^^^^^^\n",
      "KeyError: 'description'\n",
      "\n"
     ]
    },
    {
     "name": "stderr",
     "output_type": "stream",
     "text": [
      "Map (num_proc=4):  32%|███▏      | 320/1000 [16:54<35:46,  3.16s/ examples]"
     ]
    },
    {
     "name": "stdout",
     "output_type": "stream",
     "text": [
      "{'profession': 'Respiratory Therapist', 'process': 'Administering Treatments'}\n",
      "Traceback (most recent call last):\n",
      "  File \"/tmp/ipykernel_2349765/420438122.py\", line 20, in batch_map\n",
      "    results = results + fn(example)\n",
      "                        ^^^^^^^^^^^\n",
      "  File \"/tmp/ipykernel_2349765/1408341564.py\", line 196, in generate_process_details\n",
      "    \"description\": process_detail[\"description\"],\n",
      "                   ~~~~~~~~~~~~~~^^^^^^^^^^^^^^^\n",
      "KeyError: 'description'\n",
      "\n"
     ]
    },
    {
     "name": "stderr",
     "output_type": "stream",
     "text": [
      "Map (num_proc=4):  34%|███▎      | 336/1000 [17:55<43:44,  3.95s/ examples]"
     ]
    },
    {
     "name": "stdout",
     "output_type": "stream",
     "text": [
      "{'profession': 'School Counselor', 'process': 'Program Development'}\n",
      "Traceback (most recent call last):\n",
      "  File \"/tmp/ipykernel_2349765/420438122.py\", line 20, in batch_map\n",
      "    results = results + fn(example)\n",
      "                        ^^^^^^^^^^^\n",
      "  File \"/tmp/ipykernel_2349765/1408341564.py\", line 204, in generate_process_details\n",
      "    \"equipment\": process_detail[\"equipment\"],\n",
      "                 ~~~~~~~~~~~~~~^^^^^^^^^^^^^\n",
      "KeyError: 'equipment'\n",
      "\n"
     ]
    },
    {
     "name": "stderr",
     "output_type": "stream",
     "text": [
      "Map (num_proc=4):  34%|███▍      | 340/1000 [17:56<31:11,  2.84s/ examples]"
     ]
    },
    {
     "name": "stdout",
     "output_type": "stream",
     "text": [
      "{'profession': 'Auto Mechanic', 'process': 'Oil Change'}\n",
      "Traceback (most recent call last):\n",
      "  File \"/tmp/ipykernel_2349765/420438122.py\", line 20, in batch_map\n",
      "    results = results + fn(example)\n",
      "                        ^^^^^^^^^^^\n",
      "  File \"/tmp/ipykernel_2349765/1408341564.py\", line 196, in generate_process_details\n",
      "    \"description\": process_detail[\"description\"],\n",
      "                   ~~~~~~~~~~~~~~^^^^^^^^^^^^^^^\n",
      "KeyError: 'description'\n",
      "\n"
     ]
    },
    {
     "name": "stderr",
     "output_type": "stream",
     "text": [
      "Map (num_proc=4):  37%|███▋      | 368/1000 [19:23<26:30,  2.52s/ examples]"
     ]
    },
    {
     "name": "stdout",
     "output_type": "stream",
     "text": [
      "{'profession': 'Maid & Housekeeper', 'process': 'Kitchen Cleaning'}\n",
      "Traceback (most recent call last):\n",
      "  File \"/tmp/ipykernel_2349765/420438122.py\", line 20, in batch_map\n",
      "    results = results + fn(example)\n",
      "                        ^^^^^^^^^^^\n",
      "  File \"/tmp/ipykernel_2349765/1408341564.py\", line 197, in generate_process_details\n",
      "    \"location1\": process_detail[\"location1\"],\n",
      "                 ~~~~~~~~~~~~~~^^^^^^^^^^^^^\n",
      "KeyError: 'location1'\n",
      "\n"
     ]
    },
    {
     "name": "stderr",
     "output_type": "stream",
     "text": [
      "Map (num_proc=4):  41%|████      | 408/1000 [22:18<36:23,  3.69s/ examples]"
     ]
    },
    {
     "name": "stdout",
     "output_type": "stream",
     "text": [
      "{'profession': 'Child & Family Social Worker', 'process': 'Interagency Collaboration'}\n",
      "Traceback (most recent call last):\n",
      "  File \"/tmp/ipykernel_2349765/420438122.py\", line 20, in batch_map\n",
      "    results = results + fn(example)\n",
      "                        ^^^^^^^^^^^\n",
      "  File \"/tmp/ipykernel_2349765/1408341564.py\", line 196, in generate_process_details\n",
      "    \"description\": process_detail[\"description\"],\n",
      "                   ~~~~~~~~~~~~~~^^^^^^^^^^^^^^^\n",
      "KeyError: 'description'\n",
      "\n"
     ]
    },
    {
     "name": "stderr",
     "output_type": "stream",
     "text": [
      "Map (num_proc=4):  46%|████▌     | 460/1000 [25:44<32:37,  3.62s/ examples]"
     ]
    },
    {
     "name": "stdout",
     "output_type": "stream",
     "text": [
      "{'profession': 'Plumber', 'process': 'Replace Pipes'}\n",
      "Traceback (most recent call last):\n",
      "  File \"/tmp/ipykernel_2349765/420438122.py\", line 20, in batch_map\n",
      "    results = results + fn(example)\n",
      "                        ^^^^^^^^^^^\n",
      "  File \"/tmp/ipykernel_2349765/1408341564.py\", line 196, in generate_process_details\n",
      "    \"description\": process_detail[\"description\"],\n",
      "                   ~~~~~~~~~~~~~~^^^^^^^^^^^^^^^\n",
      "KeyError: 'description'\n",
      "\n"
     ]
    },
    {
     "name": "stderr",
     "output_type": "stream",
     "text": [
      "Map (num_proc=4):  47%|████▋     | 468/1000 [25:55<21:54,  2.47s/ examples]"
     ]
    },
    {
     "name": "stdout",
     "output_type": "stream",
     "text": [
      "{'profession': 'Hairdresser', 'process': 'Hair Styling'}\n",
      "Traceback (most recent call last):\n",
      "  File \"/tmp/ipykernel_2349765/420438122.py\", line 20, in batch_map\n",
      "    results = results + fn(example)\n",
      "                        ^^^^^^^^^^^\n",
      "  File \"/tmp/ipykernel_2349765/1408341564.py\", line 196, in generate_process_details\n",
      "    \"description\": process_detail[\"description\"],\n",
      "                   ~~~~~~~~~~~~~~^^^^^^^^^^^^^^^\n",
      "KeyError: 'description'\n",
      "\n",
      "{'profession': 'Fabricator', 'process': 'Safety Compliance'}\n",
      "Traceback (most recent call last):\n",
      "  File \"/tmp/ipykernel_2349765/420438122.py\", line 20, in batch_map\n",
      "    results = results + fn(example)\n",
      "                        ^^^^^^^^^^^\n",
      "  File \"/tmp/ipykernel_2349765/1408341564.py\", line 196, in generate_process_details\n",
      "    \"description\": process_detail[\"description\"],\n",
      "                   ~~~~~~~~~~~~~~^^^^^^^^^^^^^^^\n",
      "KeyError: 'description'\n",
      "\n"
     ]
    },
    {
     "name": "stderr",
     "output_type": "stream",
     "text": [
      "Map (num_proc=4):  47%|████▋     | 472/1000 [26:09<24:16,  2.76s/ examples]"
     ]
    },
    {
     "name": "stdout",
     "output_type": "stream",
     "text": [
      "{'profession': 'Veterinarian', 'process': 'Emergency Care'}\n",
      "Traceback (most recent call last):\n",
      "  File \"/tmp/ipykernel_2349765/420438122.py\", line 20, in batch_map\n",
      "    results = results + fn(example)\n",
      "                        ^^^^^^^^^^^\n",
      "  File \"/tmp/ipykernel_2349765/1408341564.py\", line 204, in generate_process_details\n",
      "    \"equipment\": process_detail[\"equipment\"],\n",
      "                 ~~~~~~~~~~~~~~^^^^^^^^^^^^^\n",
      "KeyError: 'equipment'\n",
      "\n"
     ]
    },
    {
     "name": "stderr",
     "output_type": "stream",
     "text": [
      "Map (num_proc=4):  49%|████▉     | 488/1000 [26:53<22:29,  2.64s/ examples]"
     ]
    },
    {
     "name": "stdout",
     "output_type": "stream",
     "text": [
      "{'profession': 'Painter', 'process': 'Cleanup'}\n",
      "Traceback (most recent call last):\n",
      "  File \"/tmp/ipykernel_2349765/420438122.py\", line 20, in batch_map\n",
      "    results = results + fn(example)\n",
      "                        ^^^^^^^^^^^\n",
      "  File \"/tmp/ipykernel_2349765/1408341564.py\", line 196, in generate_process_details\n",
      "    \"description\": process_detail[\"description\"],\n",
      "                   ~~~~~~~~~~~~~~^^^^^^^^^^^^^^^\n",
      "KeyError: 'description'\n",
      "\n",
      "{'profession': 'Carpenter', 'process': 'Designing'}\n",
      "Traceback (most recent call last):\n",
      "  File \"/tmp/ipykernel_2349765/420438122.py\", line 20, in batch_map\n",
      "    results = results + fn(example)\n",
      "                        ^^^^^^^^^^^\n",
      "  File \"/tmp/ipykernel_2349765/1408341564.py\", line 205, in generate_process_details\n",
      "    \"localities\": process_detail[\"localities\"],\n",
      "                  ~~~~~~~~~~~~~~^^^^^^^^^^^^^^\n",
      "KeyError: 'localities'\n",
      "\n",
      "{'profession': 'Financial Manager', 'process': 'Stakeholder Communication'}\n",
      "Traceback (most recent call last):\n",
      "  File \"/tmp/ipykernel_2349765/420438122.py\", line 20, in batch_map\n",
      "    results = results + fn(example)\n",
      "                        ^^^^^^^^^^^\n",
      "  File \"/tmp/ipykernel_2349765/1408341564.py\", line 196, in generate_process_details\n",
      "    \"description\": process_detail[\"description\"],\n",
      "                   ~~~~~~~~~~~~~~^^^^^^^^^^^^^^^\n",
      "KeyError: 'description'\n",
      "\n"
     ]
    },
    {
     "name": "stderr",
     "output_type": "stream",
     "text": [
      "Map (num_proc=4):  49%|████▉     | 492/1000 [27:05<23:08,  2.73s/ examples]"
     ]
    },
    {
     "name": "stdout",
     "output_type": "stream",
     "text": [
      "{'profession': 'Lawyer', 'process': 'Legal Analysis'}\n",
      "Traceback (most recent call last):\n",
      "  File \"/tmp/ipykernel_2349765/420438122.py\", line 20, in batch_map\n",
      "    results = results + fn(example)\n",
      "                        ^^^^^^^^^^^\n",
      "  File \"/tmp/ipykernel_2349765/1408341564.py\", line 196, in generate_process_details\n",
      "    \"description\": process_detail[\"description\"],\n",
      "                   ~~~~~~~~~~~~~~^^^^^^^^^^^^^^^\n",
      "KeyError: 'description'\n",
      "\n"
     ]
    },
    {
     "name": "stderr",
     "output_type": "stream",
     "text": [
      "Map (num_proc=4):  50%|████▉     | 496/1000 [27:14<21:27,  2.55s/ examples]"
     ]
    },
    {
     "name": "stdout",
     "output_type": "stream",
     "text": [
      "{'profession': 'Auto Mechanic', 'process': 'Tire Rotation'}\n",
      "Traceback (most recent call last):\n",
      "  File \"/tmp/ipykernel_2349765/420438122.py\", line 20, in batch_map\n",
      "    results = results + fn(example)\n",
      "                        ^^^^^^^^^^^\n",
      "  File \"/tmp/ipykernel_2349765/1408341564.py\", line 196, in generate_process_details\n",
      "    \"description\": process_detail[\"description\"],\n",
      "                   ~~~~~~~~~~~~~~^^^^^^^^^^^^^^^\n",
      "KeyError: 'description'\n",
      "\n"
     ]
    },
    {
     "name": "stderr",
     "output_type": "stream",
     "text": [
      "Map (num_proc=4):  51%|█████     | 508/1000 [27:45<18:09,  2.21s/ examples]"
     ]
    },
    {
     "name": "stdout",
     "output_type": "stream",
     "text": [
      "{'profession': 'Delivery Truck Driver', 'process': 'Driving'}\n",
      "Traceback (most recent call last):\n",
      "  File \"/tmp/ipykernel_2349765/420438122.py\", line 20, in batch_map\n",
      "    results = results + fn(example)\n",
      "                        ^^^^^^^^^^^\n",
      "  File \"/tmp/ipykernel_2349765/1408341564.py\", line 197, in generate_process_details\n",
      "    \"location1\": process_detail[\"location1\"],\n",
      "                 ~~~~~~~~~~~~~~^^^^^^^^^^^^^\n",
      "KeyError: 'location1'\n",
      "\n"
     ]
    },
    {
     "name": "stderr",
     "output_type": "stream",
     "text": [
      "Map (num_proc=4):  53%|█████▎    | 528/1000 [28:41<15:22,  1.95s/ examples]"
     ]
    },
    {
     "name": "stdout",
     "output_type": "stream",
     "text": [
      "{'profession': 'Epidemiologist', 'process': 'Risk Assessment'}\n",
      "Traceback (most recent call last):\n",
      "  File \"/tmp/ipykernel_2349765/420438122.py\", line 20, in batch_map\n",
      "    results = results + fn(example)\n",
      "                        ^^^^^^^^^^^\n",
      "  File \"/tmp/ipykernel_2349765/1408341564.py\", line 196, in generate_process_details\n",
      "    \"description\": process_detail[\"description\"],\n",
      "                   ~~~~~~~~~~~~~~^^^^^^^^^^^^^^^\n",
      "KeyError: 'description'\n",
      "\n"
     ]
    },
    {
     "name": "stderr",
     "output_type": "stream",
     "text": [
      "Map (num_proc=4):  53%|█████▎    | 532/1000 [28:56<18:56,  2.43s/ examples]"
     ]
    },
    {
     "name": "stdout",
     "output_type": "stream",
     "text": [
      "{'profession': 'Computer Programmer', 'process': 'Code Review'}\n",
      "Traceback (most recent call last):\n",
      "  File \"/tmp/ipykernel_2349765/420438122.py\", line 20, in batch_map\n",
      "    results = results + fn(example)\n",
      "                        ^^^^^^^^^^^\n",
      "  File \"/tmp/ipykernel_2349765/1408341564.py\", line 196, in generate_process_details\n",
      "    \"description\": process_detail[\"description\"],\n",
      "                   ~~~~~~~~~~~~~~^^^^^^^^^^^^^^^\n",
      "KeyError: 'description'\n",
      "\n"
     ]
    },
    {
     "name": "stderr",
     "output_type": "stream",
     "text": [
      "Map (num_proc=4):  54%|█████▍    | 540/1000 [29:14<17:13,  2.25s/ examples]"
     ]
    },
    {
     "name": "stdout",
     "output_type": "stream",
     "text": [
      "{'profession': 'Teacher Assistant', 'process': '9. Organizing Classroom Materials'}\n",
      "Traceback (most recent call last):\n",
      "  File \"/tmp/ipykernel_2349765/420438122.py\", line 20, in batch_map\n",
      "    results = results + fn(example)\n",
      "                        ^^^^^^^^^^^\n",
      "  File \"/tmp/ipykernel_2349765/1408341564.py\", line 196, in generate_process_details\n",
      "    \"description\": process_detail[\"description\"],\n",
      "                   ~~~~~~~~~~~~~~^^^^^^^^^^^^^^^\n",
      "KeyError: 'description'\n",
      "\n"
     ]
    },
    {
     "name": "stderr",
     "output_type": "stream",
     "text": [
      "Map (num_proc=4):  56%|█████▌    | 556/1000 [30:10<22:24,  3.03s/ examples]"
     ]
    },
    {
     "name": "stdout",
     "output_type": "stream",
     "text": [
      "{'profession': 'Personal Care Aide', 'process': 'Health Monitoring'}\n",
      "Traceback (most recent call last):\n",
      "  File \"/tmp/ipykernel_2349765/420438122.py\", line 20, in batch_map\n",
      "    results = results + fn(example)\n",
      "                        ^^^^^^^^^^^\n",
      "  File \"/tmp/ipykernel_2349765/1408341564.py\", line 196, in generate_process_details\n",
      "    \"description\": process_detail[\"description\"],\n",
      "                   ~~~~~~~~~~~~~~^^^^^^^^^^^^^^^\n",
      "KeyError: 'description'\n",
      "\n"
     ]
    },
    {
     "name": "stderr",
     "output_type": "stream",
     "text": [
      "Map (num_proc=4):  56%|█████▌    | 560/1000 [30:23<22:28,  3.06s/ examples]"
     ]
    },
    {
     "name": "stdout",
     "output_type": "stream",
     "text": [
      "{'profession': 'Occupational Therapist', 'process': 'Home and Workplace Evaluations'}\n",
      "Traceback (most recent call last):\n",
      "  File \"/tmp/ipykernel_2349765/420438122.py\", line 20, in batch_map\n",
      "    results = results + fn(example)\n",
      "                        ^^^^^^^^^^^\n",
      "  File \"/tmp/ipykernel_2349765/1408341564.py\", line 196, in generate_process_details\n",
      "    \"description\": process_detail[\"description\"],\n",
      "                   ~~~~~~~~~~~~~~^^^^^^^^^^^^^^^\n",
      "KeyError: 'description'\n",
      "\n"
     ]
    },
    {
     "name": "stderr",
     "output_type": "stream",
     "text": [
      "Map (num_proc=4):  56%|█████▋    | 564/1000 [30:31<20:07,  2.77s/ examples]"
     ]
    },
    {
     "name": "stdout",
     "output_type": "stream",
     "text": [
      "{'profession': 'Medical Assistant', 'process': 'Vital Signs Measurement'}\n",
      "Traceback (most recent call last):\n",
      "  File \"/tmp/ipykernel_2349765/420438122.py\", line 20, in batch_map\n",
      "    results = results + fn(example)\n",
      "                        ^^^^^^^^^^^\n",
      "  File \"/tmp/ipykernel_2349765/1408341564.py\", line 196, in generate_process_details\n",
      "    \"description\": process_detail[\"description\"],\n",
      "                   ~~~~~~~~~~~~~~^^^^^^^^^^^^^^^\n",
      "KeyError: 'description'\n",
      "\n"
     ]
    },
    {
     "name": "stderr",
     "output_type": "stream",
     "text": [
      "Map (num_proc=4):  59%|█████▉    | 588/1000 [31:46<25:32,  3.72s/ examples]"
     ]
    },
    {
     "name": "stdout",
     "output_type": "stream",
     "text": [
      "{'profession': 'Restaurant Cook', 'process': 'Meal Preparation'}\n",
      "Traceback (most recent call last):\n",
      "  File \"/tmp/ipykernel_2349765/420438122.py\", line 20, in batch_map\n",
      "    results = results + fn(example)\n",
      "                        ^^^^^^^^^^^\n",
      "  File \"/tmp/ipykernel_2349765/1408341564.py\", line 196, in generate_process_details\n",
      "    \"description\": process_detail[\"description\"],\n",
      "                   ~~~~~~~~~~~~~~^^^^^^^^^^^^^^^\n",
      "KeyError: 'description'\n",
      "\n"
     ]
    },
    {
     "name": "stderr",
     "output_type": "stream",
     "text": [
      "Map (num_proc=4):  59%|█████▉    | 592/1000 [31:47<18:11,  2.68s/ examples]"
     ]
    },
    {
     "name": "stdout",
     "output_type": "stream",
     "text": [
      "{'profession': 'Landscaper & Groundskeeper', 'process': 'Weeding'}\n",
      "Traceback (most recent call last):\n",
      "  File \"/tmp/ipykernel_2349765/420438122.py\", line 20, in batch_map\n",
      "    results = results + fn(example)\n",
      "                        ^^^^^^^^^^^\n",
      "  File \"/tmp/ipykernel_2349765/1408341564.py\", line 196, in generate_process_details\n",
      "    \"description\": process_detail[\"description\"],\n",
      "                   ~~~~~~~~~~~~~~^^^^^^^^^^^^^^^\n",
      "KeyError: 'description'\n",
      "\n"
     ]
    },
    {
     "name": "stderr",
     "output_type": "stream",
     "text": [
      "Map (num_proc=4):  60%|█████▉    | 596/1000 [32:25<31:30,  4.68s/ examples]"
     ]
    },
    {
     "name": "stdout",
     "output_type": "stream",
     "text": [
      "{'profession': 'School Counselor', 'process': 'Career Guidance'}\n",
      "Traceback (most recent call last):\n",
      "  File \"/tmp/ipykernel_2349765/420438122.py\", line 20, in batch_map\n",
      "    results = results + fn(example)\n",
      "                        ^^^^^^^^^^^\n",
      "  File \"/tmp/ipykernel_2349765/1408341564.py\", line 206, in generate_process_details\n",
      "    \"sourroundings\": process_detail[\"sourroundings\"],\n",
      "                     ~~~~~~~~~~~~~~^^^^^^^^^^^^^^^^^\n",
      "KeyError: 'sourroundings'\n",
      "\n"
     ]
    },
    {
     "name": "stderr",
     "output_type": "stream",
     "text": [
      "Map (num_proc=4):  63%|██████▎   | 628/1000 [33:47<14:37,  2.36s/ examples]"
     ]
    },
    {
     "name": "stdout",
     "output_type": "stream",
     "text": [
      "{'profession': 'Computer Programmer', 'process': 'Version Control'}\n",
      "Traceback (most recent call last):\n",
      "  File \"/tmp/ipykernel_2349765/420438122.py\", line 20, in batch_map\n",
      "    results = results + fn(example)\n",
      "                        ^^^^^^^^^^^\n",
      "  File \"/tmp/ipykernel_2349765/1408341564.py\", line 196, in generate_process_details\n",
      "    \"description\": process_detail[\"description\"],\n",
      "                   ~~~~~~~~~~~~~~^^^^^^^^^^^^^^^\n",
      "KeyError: 'description'\n",
      "\n"
     ]
    },
    {
     "name": "stderr",
     "output_type": "stream",
     "text": [
      "Map (num_proc=4):  65%|██████▍   | 648/1000 [35:00<20:08,  3.43s/ examples]"
     ]
    },
    {
     "name": "stdout",
     "output_type": "stream",
     "text": [
      "{'profession': 'Pharmacy Technician', 'process': 'Pharmacy Cleaning'}\n",
      "Traceback (most recent call last):\n",
      "  File \"/tmp/ipykernel_2349765/420438122.py\", line 20, in batch_map\n",
      "    results = results + fn(example)\n",
      "                        ^^^^^^^^^^^\n",
      "  File \"/tmp/ipykernel_2349765/1408341564.py\", line 196, in generate_process_details\n",
      "    \"description\": process_detail[\"description\"],\n",
      "                   ~~~~~~~~~~~~~~^^^^^^^^^^^^^^^\n",
      "KeyError: 'description'\n",
      "\n"
     ]
    },
    {
     "name": "stderr",
     "output_type": "stream",
     "text": [
      "Map (num_proc=4):  66%|██████▌   | 656/1000 [35:18<16:28,  2.87s/ examples]"
     ]
    },
    {
     "name": "stdout",
     "output_type": "stream",
     "text": [
      "{'profession': 'Brickmason & Blockmason', 'process': 'Site Preparation'}\n",
      "Traceback (most recent call last):\n",
      "  File \"/tmp/ipykernel_2349765/420438122.py\", line 20, in batch_map\n",
      "    results = results + fn(example)\n",
      "                        ^^^^^^^^^^^\n",
      "  File \"/tmp/ipykernel_2349765/1408341564.py\", line 196, in generate_process_details\n",
      "    \"description\": process_detail[\"description\"],\n",
      "                   ~~~~~~~~~~~~~~^^^^^^^^^^^^^^^\n",
      "KeyError: 'description'\n",
      "\n"
     ]
    },
    {
     "name": "stderr",
     "output_type": "stream",
     "text": [
      "Map (num_proc=4):  67%|██████▋   | 672/1000 [36:20<18:13,  3.34s/ examples]"
     ]
    },
    {
     "name": "stdout",
     "output_type": "stream",
     "text": [
      "{'profession': 'Physical Therapist', 'process': 'Equipment Maintenance'}\n",
      "Traceback (most recent call last):\n",
      "  File \"/tmp/ipykernel_2349765/420438122.py\", line 20, in batch_map\n",
      "    results = results + fn(example)\n",
      "                        ^^^^^^^^^^^\n",
      "  File \"/tmp/ipykernel_2349765/1408341564.py\", line 196, in generate_process_details\n",
      "    \"description\": process_detail[\"description\"],\n",
      "                   ~~~~~~~~~~~~~~^^^^^^^^^^^^^^^\n",
      "KeyError: 'description'\n",
      "\n"
     ]
    },
    {
     "name": "stderr",
     "output_type": "stream",
     "text": [
      "Map (num_proc=4):  73%|███████▎  | 732/1000 [39:27<11:25,  2.56s/ examples]"
     ]
    },
    {
     "name": "stdout",
     "output_type": "stream",
     "text": [
      "{'profession': 'Maid & Housekeeper', 'process': 'Trash Disposal'}\n",
      "Traceback (most recent call last):\n",
      "  File \"/tmp/ipykernel_2349765/420438122.py\", line 20, in batch_map\n",
      "    results = results + fn(example)\n",
      "                        ^^^^^^^^^^^\n",
      "  File \"/tmp/ipykernel_2349765/1408341564.py\", line 196, in generate_process_details\n",
      "    \"description\": process_detail[\"description\"],\n",
      "                   ~~~~~~~~~~~~~~^^^^^^^^^^^^^^^\n",
      "KeyError: 'description'\n",
      "\n"
     ]
    },
    {
     "name": "stderr",
     "output_type": "stream",
     "text": [
      "Map (num_proc=4):  74%|███████▍  | 740/1000 [39:52<11:08,  2.57s/ examples]"
     ]
    },
    {
     "name": "stdout",
     "output_type": "stream",
     "text": [
      "{'profession': 'Glazier', 'process': 'Site Inspection'}\n",
      "Traceback (most recent call last):\n",
      "  File \"/tmp/ipykernel_2349765/420438122.py\", line 20, in batch_map\n",
      "    results = results + fn(example)\n",
      "                        ^^^^^^^^^^^\n",
      "  File \"/tmp/ipykernel_2349765/1408341564.py\", line 199, in generate_process_details\n",
      "    \"location_name\": process_detail[\"location_name\"],\n",
      "                     ~~~~~~~~~~~~~~^^^^^^^^^^^^^^^^^\n",
      "KeyError: 'location_name'\n",
      "\n"
     ]
    },
    {
     "name": "stderr",
     "output_type": "stream",
     "text": [
      "Map (num_proc=4):  75%|███████▍  | 748/1000 [40:34<18:04,  4.30s/ examples]"
     ]
    },
    {
     "name": "stdout",
     "output_type": "stream",
     "text": [
      "{'profession': 'Physical Therapist Assistant', 'process': 'Therapy Documentation'}\n",
      "Traceback (most recent call last):\n",
      "  File \"/tmp/ipykernel_2349765/420438122.py\", line 20, in batch_map\n",
      "    results = results + fn(example)\n",
      "                        ^^^^^^^^^^^\n",
      "  File \"/tmp/ipykernel_2349765/1408341564.py\", line 196, in generate_process_details\n",
      "    \"description\": process_detail[\"description\"],\n",
      "                   ~~~~~~~~~~~~~~^^^^^^^^^^^^^^^\n",
      "KeyError: 'description'\n",
      "\n"
     ]
    },
    {
     "name": "stderr",
     "output_type": "stream",
     "text": [
      "Map (num_proc=4):  75%|███████▌  | 752/1000 [40:43<15:22,  3.72s/ examples]"
     ]
    },
    {
     "name": "stdout",
     "output_type": "stream",
     "text": [
      "{'profession': 'Construction Manager', 'process': 'Budget Management'}\n",
      "Traceback (most recent call last):\n",
      "  File \"/tmp/ipykernel_2349765/420438122.py\", line 20, in batch_map\n",
      "    results = results + fn(example)\n",
      "                        ^^^^^^^^^^^\n",
      "  File \"/tmp/ipykernel_2349765/1408341564.py\", line 206, in generate_process_details\n",
      "    \"sourroundings\": process_detail[\"sourroundings\"],\n",
      "                     ~~~~~~~~~~~~~~^^^^^^^^^^^^^^^^^\n",
      "KeyError: 'sourroundings'\n",
      "\n"
     ]
    },
    {
     "name": "stderr",
     "output_type": "stream",
     "text": [
      "Map (num_proc=4):  76%|███████▋  | 764/1000 [41:43<17:47,  4.53s/ examples]"
     ]
    },
    {
     "name": "stdout",
     "output_type": "stream",
     "text": [
      "{'profession': 'Glazier', 'process': 'Glass Installation'}\n",
      "Traceback (most recent call last):\n",
      "  File \"/tmp/ipykernel_2349765/420438122.py\", line 20, in batch_map\n",
      "    results = results + fn(example)\n",
      "                        ^^^^^^^^^^^\n",
      "  File \"/tmp/ipykernel_2349765/1408341564.py\", line 206, in generate_process_details\n",
      "    \"sourroundings\": process_detail[\"sourroundings\"],\n",
      "                     ~~~~~~~~~~~~~~^^^^^^^^^^^^^^^^^\n",
      "KeyError: 'sourroundings'\n",
      "\n"
     ]
    },
    {
     "name": "stderr",
     "output_type": "stream",
     "text": [
      "Map (num_proc=4):  77%|███████▋  | 768/1000 [41:50<14:15,  3.69s/ examples]"
     ]
    },
    {
     "name": "stdout",
     "output_type": "stream",
     "text": [
      "{'profession': 'Physician', 'process': 'Performing Physical Examinations'}\n",
      "Traceback (most recent call last):\n",
      "  File \"/tmp/ipykernel_2349765/420438122.py\", line 20, in batch_map\n",
      "    results = results + fn(example)\n",
      "                        ^^^^^^^^^^^\n",
      "  File \"/tmp/ipykernel_2349765/1408341564.py\", line 196, in generate_process_details\n",
      "    \"description\": process_detail[\"description\"],\n",
      "                   ~~~~~~~~~~~~~~^^^^^^^^^^^^^^^\n",
      "KeyError: 'description'\n",
      "\n"
     ]
    },
    {
     "name": "stderr",
     "output_type": "stream",
     "text": [
      "Map (num_proc=4):  77%|███████▋  | 772/1000 [42:06<14:25,  3.80s/ examples]"
     ]
    },
    {
     "name": "stdout",
     "output_type": "stream",
     "text": [
      "{'profession': 'Medical Assistant', 'process': 'Patient Check-In'}\n",
      "Traceback (most recent call last):\n",
      "  File \"/tmp/ipykernel_2349765/420438122.py\", line 20, in batch_map\n",
      "    results = results + fn(example)\n",
      "                        ^^^^^^^^^^^\n",
      "  File \"/tmp/ipykernel_2349765/1408341564.py\", line 196, in generate_process_details\n",
      "    \"description\": process_detail[\"description\"],\n",
      "                   ~~~~~~~~~~~~~~^^^^^^^^^^^^^^^\n",
      "KeyError: 'description'\n",
      "\n",
      "{'profession': 'School Counselor', 'process': 'Student Counseling'}\n",
      "Traceback (most recent call last):\n",
      "  File \"/tmp/ipykernel_2349765/420438122.py\", line 20, in batch_map\n",
      "    results = results + fn(example)\n",
      "                        ^^^^^^^^^^^\n",
      "  File \"/tmp/ipykernel_2349765/1408341564.py\", line 197, in generate_process_details\n",
      "    \"location1\": process_detail[\"location1\"],\n",
      "                 ~~~~~~~~~~~~~~^^^^^^^^^^^^^\n",
      "KeyError: 'location1'\n",
      "\n"
     ]
    },
    {
     "name": "stderr",
     "output_type": "stream",
     "text": [
      "Map (num_proc=4):  79%|███████▉  | 788/1000 [42:51<12:07,  3.43s/ examples]"
     ]
    },
    {
     "name": "stdout",
     "output_type": "stream",
     "text": [
      "{'profession': 'Patrol Officer', 'process': 'Investigation'}\n",
      "Traceback (most recent call last):\n",
      "  File \"/tmp/ipykernel_2349765/420438122.py\", line 20, in batch_map\n",
      "    results = results + fn(example)\n",
      "                        ^^^^^^^^^^^\n",
      "  File \"/tmp/ipykernel_2349765/1408341564.py\", line 196, in generate_process_details\n",
      "    \"description\": process_detail[\"description\"],\n",
      "                   ~~~~~~~~~~~~~~^^^^^^^^^^^^^^^\n",
      "KeyError: 'description'\n",
      "\n"
     ]
    },
    {
     "name": "stderr",
     "output_type": "stream",
     "text": [
      "Map (num_proc=4):  80%|███████▉  | 796/1000 [43:08<09:35,  2.82s/ examples]"
     ]
    },
    {
     "name": "stdout",
     "output_type": "stream",
     "text": [
      "{'profession': 'Executive Assistant', 'process': 'Stakeholder Communication'}\n",
      "Traceback (most recent call last):\n",
      "  File \"/tmp/ipykernel_2349765/420438122.py\", line 20, in batch_map\n",
      "    results = results + fn(example)\n",
      "                        ^^^^^^^^^^^\n",
      "  File \"/tmp/ipykernel_2349765/1408341564.py\", line 196, in generate_process_details\n",
      "    \"description\": process_detail[\"description\"],\n",
      "                   ~~~~~~~~~~~~~~^^^^^^^^^^^^^^^\n",
      "KeyError: 'description'\n",
      "\n",
      "{'profession': 'Child & Family Social Worker', 'process': 'Crisis Intervention'}\n",
      "Traceback (most recent call last):\n",
      "  File \"/tmp/ipykernel_2349765/420438122.py\", line 20, in batch_map\n",
      "    results = results + fn(example)\n",
      "                        ^^^^^^^^^^^\n",
      "  File \"/tmp/ipykernel_2349765/1408341564.py\", line 191, in generate_process_details\n",
      "    process_detail = json.loads(openrouter_response.choices[0].message.tool_calls[0].function.arguments)\n",
      "                                ~~~~~~~~~~~~~~~~~~~~~~~~~~~^^^\n",
      "TypeError: 'NoneType' object is not subscriptable\n",
      "\n",
      "{'profession': 'Substance Abuse Counselor', 'process': 'Case Management'}\n",
      "Traceback (most recent call last):\n",
      "  File \"/tmp/ipykernel_2349765/420438122.py\", line 20, in batch_map\n",
      "    results = results + fn(example)\n",
      "                        ^^^^^^^^^^^\n",
      "  File \"/tmp/ipykernel_2349765/1408341564.py\", line 191, in generate_process_details\n",
      "    process_detail = json.loads(openrouter_response.choices[0].message.tool_calls[0].function.arguments)\n",
      "                                ~~~~~~~~~~~~~~~~~~~~~~~~~~~^^^\n",
      "TypeError: 'NoneType' object is not subscriptable\n",
      "\n",
      "{'profession': 'Software Developer', 'process': 'Continuous Learning'}\n",
      "Traceback (most recent call last):\n",
      "  File \"/tmp/ipykernel_2349765/420438122.py\", line 20, in batch_map\n",
      "    results = results + fn(example)\n",
      "                        ^^^^^^^^^^^\n",
      "  File \"/tmp/ipykernel_2349765/1408341564.py\", line 191, in generate_process_details\n",
      "    process_detail = json.loads(openrouter_response.choices[0].message.tool_calls[0].function.arguments)\n",
      "                                ~~~~~~~~~~~~~~~~~~~~~~~~~~~^^^\n",
      "TypeError: 'NoneType' object is not subscriptable\n",
      "\n"
     ]
    },
    {
     "name": "stderr",
     "output_type": "stream",
     "text": [
      "Map (num_proc=4):  80%|████████  | 800/1000 [43:09<06:45,  2.03s/ examples]"
     ]
    },
    {
     "name": "stdout",
     "output_type": "stream",
     "text": [
      "{'profession': 'Brickmason & Blockmason', 'process': 'Repair Work'}\n",
      "Traceback (most recent call last):\n",
      "  File \"/tmp/ipykernel_2349765/420438122.py\", line 20, in batch_map\n",
      "    results = results + fn(example)\n",
      "                        ^^^^^^^^^^^\n",
      "  File \"/tmp/ipykernel_2349765/1408341564.py\", line 191, in generate_process_details\n",
      "    process_detail = json.loads(openrouter_response.choices[0].message.tool_calls[0].function.arguments)\n",
      "                                ~~~~~~~~~~~~~~~~~~~~~~~~~~~^^^\n",
      "TypeError: 'NoneType' object is not subscriptable\n",
      "\n",
      "{'profession': 'Nursing Aide', 'process': 'Patient Education'}\n",
      "Traceback (most recent call last):\n",
      "  File \"/tmp/ipykernel_2349765/420438122.py\", line 20, in batch_map\n",
      "    results = results + fn(example)\n",
      "                        ^^^^^^^^^^^\n",
      "  File \"/tmp/ipykernel_2349765/1408341564.py\", line 191, in generate_process_details\n",
      "    process_detail = json.loads(openrouter_response.choices[0].message.tool_calls[0].function.arguments)\n",
      "                                ~~~~~~~~~~~~~~~~~~~~~~~~~~~^^^\n",
      "TypeError: 'NoneType' object is not subscriptable\n",
      "\n",
      "{'profession': 'Carpenter', 'process': 'Cutting'}\n",
      "Traceback (most recent call last):\n",
      "  File \"/tmp/ipykernel_2349765/420438122.py\", line 20, in batch_map\n",
      "    results = results + fn(example)\n",
      "                        ^^^^^^^^^^^\n",
      "  File \"/tmp/ipykernel_2349765/1408341564.py\", line 191, in generate_process_details\n",
      "    process_detail = json.loads(openrouter_response.choices[0].message.tool_calls[0].function.arguments)\n",
      "                                ~~~~~~~~~~~~~~~~~~~~~~~~~~~^^^\n",
      "TypeError: 'NoneType' object is not subscriptable\n",
      "\n",
      "{'profession': 'Sales Representative', 'process': 'Sales Presentations'}\n",
      "Traceback (most recent call last):\n",
      "  File \"/tmp/ipykernel_2349765/420438122.py\", line 20, in batch_map\n",
      "    results = results + fn(example)\n",
      "                        ^^^^^^^^^^^\n",
      "  File \"/tmp/ipykernel_2349765/1408341564.py\", line 191, in generate_process_details\n",
      "    process_detail = json.loads(openrouter_response.choices[0].message.tool_calls[0].function.arguments)\n",
      "                                ~~~~~~~~~~~~~~~~~~~~~~~~~~~^^^\n",
      "TypeError: 'NoneType' object is not subscriptable\n",
      "\n"
     ]
    },
    {
     "name": "stderr",
     "output_type": "stream",
     "text": [
      "Map (num_proc=4):  80%|████████  | 804/1000 [43:10<04:50,  1.48s/ examples]"
     ]
    },
    {
     "name": "stdout",
     "output_type": "stream",
     "text": [
      "{'profession': 'Software Developer', 'process': 'Code Review'}\n",
      "Traceback (most recent call last):\n",
      "  File \"/tmp/ipykernel_2349765/420438122.py\", line 20, in batch_map\n",
      "    results = results + fn(example)\n",
      "                        ^^^^^^^^^^^\n",
      "  File \"/tmp/ipykernel_2349765/1408341564.py\", line 191, in generate_process_details\n",
      "    process_detail = json.loads(openrouter_response.choices[0].message.tool_calls[0].function.arguments)\n",
      "                                ~~~~~~~~~~~~~~~~~~~~~~~~~~~^^^\n",
      "TypeError: 'NoneType' object is not subscriptable\n",
      "\n",
      "{'profession': 'Paramedic', 'process': 'Documentation'}\n",
      "Traceback (most recent call last):\n",
      "  File \"/tmp/ipykernel_2349765/420438122.py\", line 20, in batch_map\n",
      "    results = results + fn(example)\n",
      "                        ^^^^^^^^^^^\n",
      "  File \"/tmp/ipykernel_2349765/1408341564.py\", line 191, in generate_process_details\n",
      "    process_detail = json.loads(openrouter_response.choices[0].message.tool_calls[0].function.arguments)\n",
      "                                ~~~~~~~~~~~~~~~~~~~~~~~~~~~^^^\n",
      "TypeError: 'NoneType' object is not subscriptable\n",
      "\n",
      "{'profession': 'Real Estate Agent', 'process': 'Contract Preparation'}\n",
      "Traceback (most recent call last):\n",
      "  File \"/tmp/ipykernel_2349765/420438122.py\", line 20, in batch_map\n",
      "    results = results + fn(example)\n",
      "                        ^^^^^^^^^^^\n",
      "  File \"/tmp/ipykernel_2349765/1408341564.py\", line 191, in generate_process_details\n",
      "    process_detail = json.loads(openrouter_response.choices[0].message.tool_calls[0].function.arguments)\n",
      "                                ~~~~~~~~~~~~~~~~~~~~~~~~~~~^^^\n",
      "TypeError: 'NoneType' object is not subscriptable\n",
      "\n",
      "{'profession': 'Personal Care Aide', 'process': 'Assisting with Personal Hygiene'}\n",
      "Traceback (most recent call last):\n",
      "  File \"/tmp/ipykernel_2349765/420438122.py\", line 20, in batch_map\n",
      "    results = results + fn(example)\n",
      "                        ^^^^^^^^^^^\n",
      "  File \"/tmp/ipykernel_2349765/1408341564.py\", line 191, in generate_process_details\n",
      "    process_detail = json.loads(openrouter_response.choices[0].message.tool_calls[0].function.arguments)\n",
      "                                ~~~~~~~~~~~~~~~~~~~~~~~~~~~^^^\n",
      "TypeError: 'NoneType' object is not subscriptable\n",
      "\n"
     ]
    },
    {
     "name": "stderr",
     "output_type": "stream",
     "text": [
      "Map (num_proc=4):  81%|████████  | 808/1000 [43:10<03:28,  1.08s/ examples]"
     ]
    },
    {
     "name": "stdout",
     "output_type": "stream",
     "text": [
      "{'profession': 'Dental Hygienist', 'process': 'Patient Check-In'}\n",
      "Traceback (most recent call last):\n",
      "  File \"/tmp/ipykernel_2349765/420438122.py\", line 20, in batch_map\n",
      "    results = results + fn(example)\n",
      "                        ^^^^^^^^^^^\n",
      "  File \"/tmp/ipykernel_2349765/1408341564.py\", line 191, in generate_process_details\n",
      "    process_detail = json.loads(openrouter_response.choices[0].message.tool_calls[0].function.arguments)\n",
      "                                ~~~~~~~~~~~~~~~~~~~~~~~~~~~^^^\n",
      "TypeError: 'NoneType' object is not subscriptable\n",
      "\n",
      "{'profession': 'Respiratory Therapist', 'process': 'Monitoring Patient Progress'}\n",
      "Traceback (most recent call last):\n",
      "  File \"/tmp/ipykernel_2349765/420438122.py\", line 20, in batch_map\n",
      "    results = results + fn(example)\n",
      "                        ^^^^^^^^^^^\n",
      "  File \"/tmp/ipykernel_2349765/1408341564.py\", line 191, in generate_process_details\n",
      "    process_detail = json.loads(openrouter_response.choices[0].message.tool_calls[0].function.arguments)\n",
      "                                ~~~~~~~~~~~~~~~~~~~~~~~~~~~^^^\n",
      "TypeError: 'NoneType' object is not subscriptable\n",
      "\n",
      "{'profession': 'Janitor', 'process': 'Window Cleaning'}\n",
      "Traceback (most recent call last):\n",
      "  File \"/tmp/ipykernel_2349765/420438122.py\", line 20, in batch_map\n",
      "    results = results + fn(example)\n",
      "                        ^^^^^^^^^^^\n",
      "  File \"/tmp/ipykernel_2349765/1408341564.py\", line 191, in generate_process_details\n",
      "    process_detail = json.loads(openrouter_response.choices[0].message.tool_calls[0].function.arguments)\n",
      "                                ~~~~~~~~~~~~~~~~~~~~~~~~~~~^^^\n",
      "TypeError: 'NoneType' object is not subscriptable\n",
      "\n",
      "{'profession': 'Radiologic Technologist', 'process': 'Record Keeping'}\n",
      "Traceback (most recent call last):\n",
      "  File \"/tmp/ipykernel_2349765/420438122.py\", line 20, in batch_map\n",
      "    results = results + fn(example)\n",
      "                        ^^^^^^^^^^^\n",
      "  File \"/tmp/ipykernel_2349765/1408341564.py\", line 196, in generate_process_details\n",
      "    \"description\": process_detail[\"description\"],\n",
      "                   ~~~~~~~~~~~~~~^^^^^^^^^^^^^^^\n",
      "KeyError: 'description'\n",
      "\n",
      "{'profession': 'Real Estate Agent', 'process': 'Continuing Education'}\n",
      "Traceback (most recent call last):\n",
      "  File \"/tmp/ipykernel_2349765/420438122.py\", line 20, in batch_map\n",
      "    results = results + fn(example)\n",
      "                        ^^^^^^^^^^^\n",
      "  File \"/tmp/ipykernel_2349765/1408341564.py\", line 191, in generate_process_details\n",
      "    process_detail = json.loads(openrouter_response.choices[0].message.tool_calls[0].function.arguments)\n",
      "                                ~~~~~~~~~~~~~~~~~~~~~~~~~~~^^^\n",
      "TypeError: 'NoneType' object is not subscriptable\n",
      "\n"
     ]
    },
    {
     "name": "stderr",
     "output_type": "stream",
     "text": [
      "Map (num_proc=4):  81%|████████  | 812/1000 [43:13<02:57,  1.06 examples/s]"
     ]
    },
    {
     "name": "stdout",
     "output_type": "stream",
     "text": [
      "{'profession': 'Maintenance & Repair Worker', 'process': 'Inspecting Equipment'}\n",
      "Traceback (most recent call last):\n",
      "  File \"/tmp/ipykernel_2349765/420438122.py\", line 20, in batch_map\n",
      "    results = results + fn(example)\n",
      "                        ^^^^^^^^^^^\n",
      "  File \"/tmp/ipykernel_2349765/1408341564.py\", line 191, in generate_process_details\n",
      "    process_detail = json.loads(openrouter_response.choices[0].message.tool_calls[0].function.arguments)\n",
      "                                ~~~~~~~~~~~~~~~~~~~~~~~~~~~^^^\n",
      "TypeError: 'NoneType' object is not subscriptable\n",
      "\n",
      "{'profession': 'Administrative Assistant', 'process': 'Data Entry'}\n",
      "Traceback (most recent call last):\n",
      "  File \"/tmp/ipykernel_2349765/420438122.py\", line 20, in batch_map\n",
      "    results = results + fn(example)\n",
      "                        ^^^^^^^^^^^\n",
      "  File \"/tmp/ipykernel_2349765/1408341564.py\", line 191, in generate_process_details\n",
      "    process_detail = json.loads(openrouter_response.choices[0].message.tool_calls[0].function.arguments)\n",
      "                                ~~~~~~~~~~~~~~~~~~~~~~~~~~~^^^\n",
      "TypeError: 'NoneType' object is not subscriptable\n",
      "\n",
      "{'profession': 'Delivery Truck Driver', 'process': 'Inventory Management'}\n",
      "Traceback (most recent call last):\n",
      "  File \"/tmp/ipykernel_2349765/420438122.py\", line 20, in batch_map\n",
      "    results = results + fn(example)\n",
      "                        ^^^^^^^^^^^\n",
      "  File \"/tmp/ipykernel_2349765/1408341564.py\", line 191, in generate_process_details\n",
      "    process_detail = json.loads(openrouter_response.choices[0].message.tool_calls[0].function.arguments)\n",
      "                                ~~~~~~~~~~~~~~~~~~~~~~~~~~~^^^\n",
      "TypeError: 'NoneType' object is not subscriptable\n",
      "\n",
      "{'profession': 'Glazier', 'process': 'Glass Cutting'}\n",
      "Traceback (most recent call last):\n",
      "  File \"/tmp/ipykernel_2349765/420438122.py\", line 20, in batch_map\n",
      "    results = results + fn(example)\n",
      "                        ^^^^^^^^^^^\n",
      "  File \"/tmp/ipykernel_2349765/1408341564.py\", line 191, in generate_process_details\n",
      "    process_detail = json.loads(openrouter_response.choices[0].message.tool_calls[0].function.arguments)\n",
      "                                ~~~~~~~~~~~~~~~~~~~~~~~~~~~^^^\n",
      "TypeError: 'NoneType' object is not subscriptable\n",
      "\n"
     ]
    },
    {
     "name": "stderr",
     "output_type": "stream",
     "text": [
      "Map (num_proc=4):  82%|████████▏ | 816/1000 [43:13<02:09,  1.43 examples/s]"
     ]
    },
    {
     "name": "stdout",
     "output_type": "stream",
     "text": [
      "{'profession': 'School Counselor', 'process': 'Record Keeping'}\n",
      "Traceback (most recent call last):\n",
      "  File \"/tmp/ipykernel_2349765/420438122.py\", line 20, in batch_map\n",
      "    results = results + fn(example)\n",
      "                        ^^^^^^^^^^^\n",
      "  File \"/tmp/ipykernel_2349765/1408341564.py\", line 191, in generate_process_details\n",
      "    process_detail = json.loads(openrouter_response.choices[0].message.tool_calls[0].function.arguments)\n",
      "                                ~~~~~~~~~~~~~~~~~~~~~~~~~~~^^^\n",
      "TypeError: 'NoneType' object is not subscriptable\n",
      "\n",
      "{'profession': 'Teacher Assistant', 'process': '5. Managing Classroom'}\n",
      "Traceback (most recent call last):\n",
      "  File \"/tmp/ipykernel_2349765/420438122.py\", line 20, in batch_map\n",
      "    results = results + fn(example)\n",
      "                        ^^^^^^^^^^^\n",
      "  File \"/tmp/ipykernel_2349765/1408341564.py\", line 191, in generate_process_details\n",
      "    process_detail = json.loads(openrouter_response.choices[0].message.tool_calls[0].function.arguments)\n",
      "                                ~~~~~~~~~~~~~~~~~~~~~~~~~~~^^^\n",
      "TypeError: 'NoneType' object is not subscriptable\n",
      "\n",
      "{'profession': 'Database Administrator', 'process': 'Database Updates'}\n",
      "Traceback (most recent call last):\n",
      "  File \"/tmp/ipykernel_2349765/420438122.py\", line 20, in batch_map\n",
      "    results = results + fn(example)\n",
      "                        ^^^^^^^^^^^\n",
      "  File \"/tmp/ipykernel_2349765/1408341564.py\", line 191, in generate_process_details\n",
      "    process_detail = json.loads(openrouter_response.choices[0].message.tool_calls[0].function.arguments)\n",
      "                                ~~~~~~~~~~~~~~~~~~~~~~~~~~~^^^\n",
      "TypeError: 'NoneType' object is not subscriptable\n",
      "\n",
      "{'profession': 'Physician', 'process': 'Updating Patient Records'}\n",
      "Traceback (most recent call last):\n",
      "  File \"/tmp/ipykernel_2349765/420438122.py\", line 20, in batch_map\n",
      "    results = results + fn(example)\n",
      "                        ^^^^^^^^^^^\n",
      "  File \"/tmp/ipykernel_2349765/1408341564.py\", line 191, in generate_process_details\n",
      "    process_detail = json.loads(openrouter_response.choices[0].message.tool_calls[0].function.arguments)\n",
      "                                ~~~~~~~~~~~~~~~~~~~~~~~~~~~^^^\n",
      "TypeError: 'NoneType' object is not subscriptable\n",
      "\n"
     ]
    },
    {
     "name": "stderr",
     "output_type": "stream",
     "text": [
      "Map (num_proc=4):  82%|████████▏ | 820/1000 [43:14<01:35,  1.88 examples/s]"
     ]
    },
    {
     "name": "stdout",
     "output_type": "stream",
     "text": [
      "{'profession': 'Painter', 'process': 'Estimating Jobs'}\n",
      "Traceback (most recent call last):\n",
      "  File \"/tmp/ipykernel_2349765/420438122.py\", line 20, in batch_map\n",
      "    results = results + fn(example)\n",
      "                        ^^^^^^^^^^^\n",
      "  File \"/tmp/ipykernel_2349765/1408341564.py\", line 191, in generate_process_details\n",
      "    process_detail = json.loads(openrouter_response.choices[0].message.tool_calls[0].function.arguments)\n",
      "                                ~~~~~~~~~~~~~~~~~~~~~~~~~~~^^^\n",
      "TypeError: 'NoneType' object is not subscriptable\n",
      "\n",
      "{'profession': 'Meeting, Convention & Event Planner', 'process': 'Vendor Coordination'}\n",
      "Traceback (most recent call last):\n",
      "  File \"/tmp/ipykernel_2349765/420438122.py\", line 20, in batch_map\n",
      "    results = results + fn(example)\n",
      "                        ^^^^^^^^^^^\n",
      "  File \"/tmp/ipykernel_2349765/1408341564.py\", line 191, in generate_process_details\n",
      "    process_detail = json.loads(openrouter_response.choices[0].message.tool_calls[0].function.arguments)\n",
      "                                ~~~~~~~~~~~~~~~~~~~~~~~~~~~^^^\n",
      "TypeError: 'NoneType' object is not subscriptable\n",
      "\n",
      "{'profession': 'Compliance Officer', 'process': 'Regulatory Research'}\n",
      "Traceback (most recent call last):\n",
      "  File \"/tmp/ipykernel_2349765/420438122.py\", line 20, in batch_map\n",
      "    results = results + fn(example)\n",
      "                        ^^^^^^^^^^^\n",
      "  File \"/tmp/ipykernel_2349765/1408341564.py\", line 191, in generate_process_details\n",
      "    process_detail = json.loads(openrouter_response.choices[0].message.tool_calls[0].function.arguments)\n",
      "                                ~~~~~~~~~~~~~~~~~~~~~~~~~~~^^^\n",
      "TypeError: 'NoneType' object is not subscriptable\n",
      "\n",
      "{'profession': 'Logistician', 'process': 'Inventory Management'}\n",
      "Traceback (most recent call last):\n",
      "  File \"/tmp/ipykernel_2349765/420438122.py\", line 20, in batch_map\n",
      "    results = results + fn(example)\n",
      "                        ^^^^^^^^^^^\n",
      "  File \"/tmp/ipykernel_2349765/1408341564.py\", line 191, in generate_process_details\n",
      "    process_detail = json.loads(openrouter_response.choices[0].message.tool_calls[0].function.arguments)\n",
      "                                ~~~~~~~~~~~~~~~~~~~~~~~~~~~^^^\n",
      "TypeError: 'NoneType' object is not subscriptable\n",
      "\n"
     ]
    },
    {
     "name": "stderr",
     "output_type": "stream",
     "text": [
      "Map (num_proc=4):  82%|████████▏ | 824/1000 [43:15<01:12,  2.43 examples/s]"
     ]
    },
    {
     "name": "stdout",
     "output_type": "stream",
     "text": [
      "{'profession': 'Medical Secretary', 'process': 'Patient Appointment Scheduling'}\n",
      "Traceback (most recent call last):\n",
      "  File \"/tmp/ipykernel_2349765/420438122.py\", line 20, in batch_map\n",
      "    results = results + fn(example)\n",
      "                        ^^^^^^^^^^^\n",
      "  File \"/tmp/ipykernel_2349765/1408341564.py\", line 191, in generate_process_details\n",
      "    process_detail = json.loads(openrouter_response.choices[0].message.tool_calls[0].function.arguments)\n",
      "                                ~~~~~~~~~~~~~~~~~~~~~~~~~~~^^^\n",
      "TypeError: 'NoneType' object is not subscriptable\n",
      "\n"
     ]
    },
    {
     "name": "stderr",
     "output_type": "stream",
     "text": [
      "Map (num_proc=4):  83%|████████▎ | 828/1000 [43:16<01:03,  2.72 examples/s]"
     ]
    },
    {
     "name": "stdout",
     "output_type": "stream",
     "text": [
      "{'profession': 'IT Manager', 'process': 'Vendor Management'}\n",
      "Traceback (most recent call last):\n",
      "  File \"/tmp/ipykernel_2349765/420438122.py\", line 20, in batch_map\n",
      "    results = results + fn(example)\n",
      "                        ^^^^^^^^^^^\n",
      "  File \"/tmp/ipykernel_2349765/1408341564.py\", line 191, in generate_process_details\n",
      "    process_detail = json.loads(openrouter_response.choices[0].message.tool_calls[0].function.arguments)\n",
      "                                ~~~~~~~~~~~~~~~~~~~~~~~~~~~^^^\n",
      "TypeError: 'NoneType' object is not subscriptable\n",
      "\n",
      "{'profession': 'Restaurant Cook', 'process': 'Customer Service'}\n",
      "Traceback (most recent call last):\n",
      "  File \"/tmp/ipykernel_2349765/420438122.py\", line 20, in batch_map\n",
      "    results = results + fn(example)\n",
      "                        ^^^^^^^^^^^\n",
      "  File \"/tmp/ipykernel_2349765/1408341564.py\", line 191, in generate_process_details\n",
      "    process_detail = json.loads(openrouter_response.choices[0].message.tool_calls[0].function.arguments)\n",
      "                                ~~~~~~~~~~~~~~~~~~~~~~~~~~~^^^\n",
      "TypeError: 'NoneType' object is not subscriptable\n",
      "\n",
      "{'profession': 'Bookkeeping, Accounting, & Audit Clerk', 'process': 'Assist with Budget Preparation'}\n",
      "Traceback (most recent call last):\n",
      "  File \"/tmp/ipykernel_2349765/420438122.py\", line 20, in batch_map\n",
      "    results = results + fn(example)\n",
      "                        ^^^^^^^^^^^\n",
      "  File \"/tmp/ipykernel_2349765/1408341564.py\", line 191, in generate_process_details\n",
      "    process_detail = json.loads(openrouter_response.choices[0].message.tool_calls[0].function.arguments)\n",
      "                                ~~~~~~~~~~~~~~~~~~~~~~~~~~~^^^\n",
      "TypeError: 'NoneType' object is not subscriptable\n",
      "\n"
     ]
    },
    {
     "name": "stderr",
     "output_type": "stream",
     "text": [
      "Map (num_proc=4):  83%|████████▎ | 832/1000 [43:16<00:49,  3.38 examples/s]"
     ]
    },
    {
     "name": "stdout",
     "output_type": "stream",
     "text": [
      "{'profession': 'Epidemiologist', 'process': 'Surveillance System Management'}\n",
      "Traceback (most recent call last):\n",
      "  File \"/tmp/ipykernel_2349765/420438122.py\", line 20, in batch_map\n",
      "    results = results + fn(example)\n",
      "                        ^^^^^^^^^^^\n",
      "  File \"/tmp/ipykernel_2349765/1408341564.py\", line 191, in generate_process_details\n",
      "    process_detail = json.loads(openrouter_response.choices[0].message.tool_calls[0].function.arguments)\n",
      "                                ~~~~~~~~~~~~~~~~~~~~~~~~~~~^^^\n",
      "TypeError: 'NoneType' object is not subscriptable\n",
      "\n",
      "{'profession': 'IT Manager', 'process': 'Security Management'}\n",
      "Traceback (most recent call last):\n",
      "  File \"/tmp/ipykernel_2349765/420438122.py\", line 20, in batch_map\n",
      "    results = results + fn(example)\n",
      "                        ^^^^^^^^^^^\n",
      "  File \"/tmp/ipykernel_2349765/1408341564.py\", line 191, in generate_process_details\n",
      "    process_detail = json.loads(openrouter_response.choices[0].message.tool_calls[0].function.arguments)\n",
      "                                ~~~~~~~~~~~~~~~~~~~~~~~~~~~^^^\n",
      "TypeError: 'NoneType' object is not subscriptable\n",
      "\n",
      "{'profession': 'High School Teacher', 'process': 'Meeting with Colleagues'}\n",
      "Traceback (most recent call last):\n",
      "  File \"/tmp/ipykernel_2349765/420438122.py\", line 20, in batch_map\n",
      "    results = results + fn(example)\n",
      "                        ^^^^^^^^^^^\n",
      "  File \"/tmp/ipykernel_2349765/1408341564.py\", line 191, in generate_process_details\n",
      "    process_detail = json.loads(openrouter_response.choices[0].message.tool_calls[0].function.arguments)\n",
      "                                ~~~~~~~~~~~~~~~~~~~~~~~~~~~^^^\n",
      "TypeError: 'NoneType' object is not subscriptable\n",
      "\n"
     ]
    },
    {
     "name": "stderr",
     "output_type": "stream",
     "text": [
      "Map (num_proc=4):  84%|████████▎ | 836/1000 [43:17<00:49,  3.30 examples/s]"
     ]
    },
    {
     "name": "stdout",
     "output_type": "stream",
     "text": [
      "{'profession': 'High School Teacher', 'process': 'Lesson Planning'}\n",
      "Traceback (most recent call last):\n",
      "  File \"/tmp/ipykernel_2349765/420438122.py\", line 20, in batch_map\n",
      "    results = results + fn(example)\n",
      "                        ^^^^^^^^^^^\n",
      "  File \"/tmp/ipykernel_2349765/1408341564.py\", line 191, in generate_process_details\n",
      "    process_detail = json.loads(openrouter_response.choices[0].message.tool_calls[0].function.arguments)\n",
      "                                ~~~~~~~~~~~~~~~~~~~~~~~~~~~^^^\n",
      "TypeError: 'NoneType' object is not subscriptable\n",
      "\n",
      "{'profession': 'Physical Therapist Assistant', 'process': 'Patient Assessment'}\n",
      "Traceback (most recent call last):\n",
      "  File \"/tmp/ipykernel_2349765/420438122.py\", line 20, in batch_map\n",
      "    results = results + fn(example)\n",
      "                        ^^^^^^^^^^^\n",
      "  File \"/tmp/ipykernel_2349765/1408341564.py\", line 196, in generate_process_details\n",
      "    \"description\": process_detail[\"description\"],\n",
      "                   ~~~~~~~~~~~~~~^^^^^^^^^^^^^^^\n",
      "KeyError: 'description'\n",
      "\n"
     ]
    },
    {
     "name": "stderr",
     "output_type": "stream",
     "text": [
      "Map (num_proc=4):  84%|████████▍ | 840/1000 [43:25<02:07,  1.26 examples/s]"
     ]
    },
    {
     "name": "stdout",
     "output_type": "stream",
     "text": [
      "{'profession': 'Telemarketer', 'process': 'Training and Development'}\n",
      "Traceback (most recent call last):\n",
      "  File \"/tmp/ipykernel_2349765/420438122.py\", line 20, in batch_map\n",
      "    results = results + fn(example)\n",
      "                        ^^^^^^^^^^^\n",
      "  File \"/tmp/ipykernel_2349765/1408341564.py\", line 191, in generate_process_details\n",
      "    process_detail = json.loads(openrouter_response.choices[0].message.tool_calls[0].function.arguments)\n",
      "                                ~~~~~~~~~~~~~~~~~~~~~~~~~~~^^^\n",
      "TypeError: 'NoneType' object is not subscriptable\n",
      "\n",
      "{'profession': 'Painter', 'process': 'Applying Primer'}\n",
      "Traceback (most recent call last):\n",
      "  File \"/tmp/ipykernel_2349765/420438122.py\", line 20, in batch_map\n",
      "    results = results + fn(example)\n",
      "                        ^^^^^^^^^^^\n",
      "  File \"/tmp/ipykernel_2349765/1408341564.py\", line 191, in generate_process_details\n",
      "    process_detail = json.loads(openrouter_response.choices[0].message.tool_calls[0].function.arguments)\n",
      "                                ~~~~~~~~~~~~~~~~~~~~~~~~~~~^^^\n",
      "TypeError: 'NoneType' object is not subscriptable\n",
      "\n",
      "{'profession': 'Registered Nurse', 'process': 'Patient Assessment'}\n",
      "Traceback (most recent call last):\n",
      "  File \"/tmp/ipykernel_2349765/420438122.py\", line 20, in batch_map\n",
      "    results = results + fn(example)\n",
      "                        ^^^^^^^^^^^\n",
      "  File \"/tmp/ipykernel_2349765/1408341564.py\", line 191, in generate_process_details\n",
      "    process_detail = json.loads(openrouter_response.choices[0].message.tool_calls[0].function.arguments)\n",
      "                                ~~~~~~~~~~~~~~~~~~~~~~~~~~~^^^\n",
      "TypeError: 'NoneType' object is not subscriptable\n",
      "\n",
      "{'profession': 'Sales Manager', 'process': 'Customer Service'}\n",
      "Traceback (most recent call last):\n",
      "  File \"/tmp/ipykernel_2349765/420438122.py\", line 20, in batch_map\n",
      "    results = results + fn(example)\n",
      "                        ^^^^^^^^^^^\n",
      "  File \"/tmp/ipykernel_2349765/1408341564.py\", line 191, in generate_process_details\n",
      "    process_detail = json.loads(openrouter_response.choices[0].message.tool_calls[0].function.arguments)\n",
      "                                ~~~~~~~~~~~~~~~~~~~~~~~~~~~^^^\n",
      "TypeError: 'NoneType' object is not subscriptable\n",
      "\n"
     ]
    },
    {
     "name": "stderr",
     "output_type": "stream",
     "text": [
      "Map (num_proc=4):  84%|████████▍ | 844/1000 [43:26<01:33,  1.68 examples/s]"
     ]
    },
    {
     "name": "stdout",
     "output_type": "stream",
     "text": [
      "{'profession': 'Mental Health Counselor', 'process': 'Counseling Sessions'}\n",
      "Traceback (most recent call last):\n",
      "  File \"/tmp/ipykernel_2349765/420438122.py\", line 20, in batch_map\n",
      "    results = results + fn(example)\n",
      "                        ^^^^^^^^^^^\n",
      "  File \"/tmp/ipykernel_2349765/1408341564.py\", line 191, in generate_process_details\n",
      "    process_detail = json.loads(openrouter_response.choices[0].message.tool_calls[0].function.arguments)\n",
      "                                ~~~~~~~~~~~~~~~~~~~~~~~~~~~^^^\n",
      "TypeError: 'NoneType' object is not subscriptable\n",
      "\n",
      "{'profession': 'HR Specialist', 'process': 'Recruitment'}\n",
      "Traceback (most recent call last):\n",
      "  File \"/tmp/ipykernel_2349765/420438122.py\", line 20, in batch_map\n",
      "    results = results + fn(example)\n",
      "                        ^^^^^^^^^^^\n",
      "  File \"/tmp/ipykernel_2349765/1408341564.py\", line 191, in generate_process_details\n",
      "    process_detail = json.loads(openrouter_response.choices[0].message.tool_calls[0].function.arguments)\n",
      "                                ~~~~~~~~~~~~~~~~~~~~~~~~~~~^^^\n",
      "TypeError: 'NoneType' object is not subscriptable\n",
      "\n"
     ]
    },
    {
     "name": "stderr",
     "output_type": "stream",
     "text": [
      "Map (num_proc=4):  85%|████████▍ | 848/1000 [43:35<02:47,  1.10s/ examples]"
     ]
    },
    {
     "name": "stdout",
     "output_type": "stream",
     "text": [
      "{'profession': 'High School Teacher', 'process': 'Student Counseling'}\n",
      "Traceback (most recent call last):\n",
      "  File \"/tmp/ipykernel_2349765/420438122.py\", line 20, in batch_map\n",
      "    results = results + fn(example)\n",
      "                        ^^^^^^^^^^^\n",
      "  File \"/tmp/ipykernel_2349765/1408341564.py\", line 191, in generate_process_details\n",
      "    process_detail = json.loads(openrouter_response.choices[0].message.tool_calls[0].function.arguments)\n",
      "                                ~~~~~~~~~~~~~~~~~~~~~~~~~~~^^^\n",
      "TypeError: 'NoneType' object is not subscriptable\n",
      "\n",
      "{'profession': 'Personal Care Aide', 'process': 'Shopping and Errands'}\n",
      "Traceback (most recent call last):\n",
      "  File \"/tmp/ipykernel_2349765/420438122.py\", line 20, in batch_map\n",
      "    results = results + fn(example)\n",
      "                        ^^^^^^^^^^^\n",
      "  File \"/tmp/ipykernel_2349765/1408341564.py\", line 191, in generate_process_details\n",
      "    process_detail = json.loads(openrouter_response.choices[0].message.tool_calls[0].function.arguments)\n",
      "                                ~~~~~~~~~~~~~~~~~~~~~~~~~~~^^^\n",
      "TypeError: 'NoneType' object is not subscriptable\n",
      "\n"
     ]
    },
    {
     "name": "stderr",
     "output_type": "stream",
     "text": [
      "Map (num_proc=4):  85%|████████▌ | 852/1000 [43:36<02:10,  1.14 examples/s]"
     ]
    },
    {
     "name": "stdout",
     "output_type": "stream",
     "text": [
      "{'profession': 'Database Administrator', 'process': 'User Management'}\n",
      "Traceback (most recent call last):\n",
      "  File \"/tmp/ipykernel_2349765/420438122.py\", line 20, in batch_map\n",
      "    results = results + fn(example)\n",
      "                        ^^^^^^^^^^^\n",
      "  File \"/tmp/ipykernel_2349765/1408341564.py\", line 191, in generate_process_details\n",
      "    process_detail = json.loads(openrouter_response.choices[0].message.tool_calls[0].function.arguments)\n",
      "                                ~~~~~~~~~~~~~~~~~~~~~~~~~~~^^^\n",
      "TypeError: 'NoneType' object is not subscriptable\n",
      "\n",
      "{'profession': 'Plumber', 'process': 'Install New Fixtures'}\n",
      "Traceback (most recent call last):\n",
      "  File \"/tmp/ipykernel_2349765/420438122.py\", line 20, in batch_map\n",
      "    results = results + fn(example)\n",
      "                        ^^^^^^^^^^^\n",
      "  File \"/tmp/ipykernel_2349765/1408341564.py\", line 191, in generate_process_details\n",
      "    process_detail = json.loads(openrouter_response.choices[0].message.tool_calls[0].function.arguments)\n",
      "                                ~~~~~~~~~~~~~~~~~~~~~~~~~~~^^^\n",
      "TypeError: 'NoneType' object is not subscriptable\n",
      "\n",
      "{'profession': 'Security Guard', 'process': 'Alarm Response'}\n",
      "Traceback (most recent call last):\n",
      "  File \"/tmp/ipykernel_2349765/420438122.py\", line 20, in batch_map\n",
      "    results = results + fn(example)\n",
      "                        ^^^^^^^^^^^\n",
      "  File \"/tmp/ipykernel_2349765/1408341564.py\", line 191, in generate_process_details\n",
      "    process_detail = json.loads(openrouter_response.choices[0].message.tool_calls[0].function.arguments)\n",
      "                                ~~~~~~~~~~~~~~~~~~~~~~~~~~~^^^\n",
      "TypeError: 'NoneType' object is not subscriptable\n",
      "\n",
      "{'profession': 'Registered Nurse', 'process': 'Vital Signs Monitoring'}\n",
      "Traceback (most recent call last):\n",
      "  File \"/tmp/ipykernel_2349765/420438122.py\", line 20, in batch_map\n",
      "    results = results + fn(example)\n",
      "                        ^^^^^^^^^^^\n",
      "  File \"/tmp/ipykernel_2349765/1408341564.py\", line 196, in generate_process_details\n",
      "    \"description\": process_detail[\"description\"],\n",
      "                   ~~~~~~~~~~~~~~^^^^^^^^^^^^^^^\n",
      "KeyError: 'description'\n",
      "\n",
      "{'profession': 'Computer Systems Analyst', 'process': 'User Training'}\n",
      "Traceback (most recent call last):\n",
      "  File \"/tmp/ipykernel_2349765/420438122.py\", line 20, in batch_map\n",
      "    results = results + fn(example)\n",
      "                        ^^^^^^^^^^^\n",
      "  File \"/tmp/ipykernel_2349765/1408341564.py\", line 191, in generate_process_details\n",
      "    process_detail = json.loads(openrouter_response.choices[0].message.tool_calls[0].function.arguments)\n",
      "                                ~~~~~~~~~~~~~~~~~~~~~~~~~~~^^^\n",
      "TypeError: 'NoneType' object is not subscriptable\n",
      "\n"
     ]
    },
    {
     "name": "stderr",
     "output_type": "stream",
     "text": [
      "Map (num_proc=4):  86%|████████▌ | 856/1000 [43:40<02:14,  1.07 examples/s]"
     ]
    },
    {
     "name": "stdout",
     "output_type": "stream",
     "text": [
      "{'profession': 'Diagnostic Medical Sonographer', 'process': 'Image Analysis'}\n",
      "Traceback (most recent call last):\n",
      "  File \"/tmp/ipykernel_2349765/420438122.py\", line 20, in batch_map\n",
      "    results = results + fn(example)\n",
      "                        ^^^^^^^^^^^\n",
      "  File \"/tmp/ipykernel_2349765/1408341564.py\", line 191, in generate_process_details\n",
      "    process_detail = json.loads(openrouter_response.choices[0].message.tool_calls[0].function.arguments)\n",
      "                                ~~~~~~~~~~~~~~~~~~~~~~~~~~~^^^\n",
      "TypeError: 'NoneType' object is not subscriptable\n",
      "\n",
      "{'profession': 'Restaurant Cook', 'process': 'Quality Control'}\n",
      "Traceback (most recent call last):\n",
      "  File \"/tmp/ipykernel_2349765/420438122.py\", line 20, in batch_map\n",
      "    results = results + fn(example)\n",
      "                        ^^^^^^^^^^^\n",
      "  File \"/tmp/ipykernel_2349765/1408341564.py\", line 191, in generate_process_details\n",
      "    process_detail = json.loads(openrouter_response.choices[0].message.tool_calls[0].function.arguments)\n",
      "                                ~~~~~~~~~~~~~~~~~~~~~~~~~~~^^^\n",
      "TypeError: 'NoneType' object is not subscriptable\n",
      "\n",
      "{'profession': 'Clinical Laboratory Technician', 'process': 'Inventory Management'}\n",
      "Traceback (most recent call last):\n",
      "  File \"/tmp/ipykernel_2349765/420438122.py\", line 20, in batch_map\n",
      "    results = results + fn(example)\n",
      "                        ^^^^^^^^^^^\n",
      "  File \"/tmp/ipykernel_2349765/1408341564.py\", line 191, in generate_process_details\n",
      "    process_detail = json.loads(openrouter_response.choices[0].message.tool_calls[0].function.arguments)\n",
      "                                ~~~~~~~~~~~~~~~~~~~~~~~~~~~^^^\n",
      "TypeError: 'NoneType' object is not subscriptable\n",
      "\n",
      "{'profession': 'Registered Nurse', 'process': 'Emergency Response'}\n",
      "Traceback (most recent call last):\n",
      "  File \"/tmp/ipykernel_2349765/420438122.py\", line 20, in batch_map\n",
      "    results = results + fn(example)\n",
      "                        ^^^^^^^^^^^\n",
      "  File \"/tmp/ipykernel_2349765/1408341564.py\", line 191, in generate_process_details\n",
      "    process_detail = json.loads(openrouter_response.choices[0].message.tool_calls[0].function.arguments)\n",
      "                                ~~~~~~~~~~~~~~~~~~~~~~~~~~~^^^\n",
      "TypeError: 'NoneType' object is not subscriptable\n",
      "\n"
     ]
    },
    {
     "name": "stderr",
     "output_type": "stream",
     "text": [
      "Map (num_proc=4):  86%|████████▌ | 860/1000 [43:41<01:36,  1.44 examples/s]"
     ]
    },
    {
     "name": "stdout",
     "output_type": "stream",
     "text": [
      "{'profession': 'Speech-Language Pathologist', 'process': 'Documentation'}\n",
      "Traceback (most recent call last):\n",
      "  File \"/tmp/ipykernel_2349765/420438122.py\", line 20, in batch_map\n",
      "    results = results + fn(example)\n",
      "                        ^^^^^^^^^^^\n",
      "  File \"/tmp/ipykernel_2349765/1408341564.py\", line 191, in generate_process_details\n",
      "    process_detail = json.loads(openrouter_response.choices[0].message.tool_calls[0].function.arguments)\n",
      "                                ~~~~~~~~~~~~~~~~~~~~~~~~~~~^^^\n",
      "TypeError: 'NoneType' object is not subscriptable\n",
      "\n",
      "{'profession': 'Radiologic Technologist', 'process': 'Continuing Education'}\n",
      "Traceback (most recent call last):\n",
      "  File \"/tmp/ipykernel_2349765/420438122.py\", line 20, in batch_map\n",
      "    results = results + fn(example)\n",
      "                        ^^^^^^^^^^^\n",
      "  File \"/tmp/ipykernel_2349765/1408341564.py\", line 191, in generate_process_details\n",
      "    process_detail = json.loads(openrouter_response.choices[0].message.tool_calls[0].function.arguments)\n",
      "                                ~~~~~~~~~~~~~~~~~~~~~~~~~~~^^^\n",
      "TypeError: 'NoneType' object is not subscriptable\n",
      "\n",
      "{'profession': 'Maintenance & Repair Worker', 'process': 'Communicating with Management'}\n",
      "Traceback (most recent call last):\n",
      "  File \"/tmp/ipykernel_2349765/420438122.py\", line 20, in batch_map\n",
      "    results = results + fn(example)\n",
      "                        ^^^^^^^^^^^\n",
      "  File \"/tmp/ipykernel_2349765/1408341564.py\", line 191, in generate_process_details\n",
      "    process_detail = json.loads(openrouter_response.choices[0].message.tool_calls[0].function.arguments)\n",
      "                                ~~~~~~~~~~~~~~~~~~~~~~~~~~~^^^\n",
      "TypeError: 'NoneType' object is not subscriptable\n",
      "\n",
      "{'profession': 'Mechanical Engineer', 'process': 'Collaboration with Other Departments'}\n",
      "Traceback (most recent call last):\n",
      "  File \"/tmp/ipykernel_2349765/420438122.py\", line 20, in batch_map\n",
      "    results = results + fn(example)\n",
      "                        ^^^^^^^^^^^\n",
      "  File \"/tmp/ipykernel_2349765/1408341564.py\", line 191, in generate_process_details\n",
      "    process_detail = json.loads(openrouter_response.choices[0].message.tool_calls[0].function.arguments)\n",
      "                                ~~~~~~~~~~~~~~~~~~~~~~~~~~~^^^\n",
      "TypeError: 'NoneType' object is not subscriptable\n",
      "\n",
      "{'profession': 'Clinical Laboratory Technician', 'process': 'Data Entry'}\n",
      "Traceback (most recent call last):\n",
      "  File \"/tmp/ipykernel_2349765/420438122.py\", line 20, in batch_map\n",
      "    results = results + fn(example)\n",
      "                        ^^^^^^^^^^^\n",
      "  File \"/tmp/ipykernel_2349765/1408341564.py\", line 191, in generate_process_details\n",
      "    process_detail = json.loads(openrouter_response.choices[0].message.tool_calls[0].function.arguments)\n",
      "                                ~~~~~~~~~~~~~~~~~~~~~~~~~~~^^^\n",
      "TypeError: 'NoneType' object is not subscriptable\n",
      "\n"
     ]
    },
    {
     "name": "stderr",
     "output_type": "stream",
     "text": [
      "Map (num_proc=4):  86%|████████▋ | 864/1000 [43:41<01:10,  1.94 examples/s]"
     ]
    },
    {
     "name": "stdout",
     "output_type": "stream",
     "text": [
      "{'profession': 'Medical Secretary', 'process': 'Medical Coding'}\n",
      "Traceback (most recent call last):\n",
      "  File \"/tmp/ipykernel_2349765/420438122.py\", line 20, in batch_map\n",
      "    results = results + fn(example)\n",
      "                        ^^^^^^^^^^^\n",
      "  File \"/tmp/ipykernel_2349765/1408341564.py\", line 191, in generate_process_details\n",
      "    process_detail = json.loads(openrouter_response.choices[0].message.tool_calls[0].function.arguments)\n",
      "                                ~~~~~~~~~~~~~~~~~~~~~~~~~~~^^^\n",
      "TypeError: 'NoneType' object is not subscriptable\n",
      "\n"
     ]
    },
    {
     "name": "stderr",
     "output_type": "stream",
     "text": [
      "Map (num_proc=4):  87%|████████▋ | 868/1000 [43:42<00:48,  2.70 examples/s]"
     ]
    },
    {
     "name": "stdout",
     "output_type": "stream",
     "text": [
      "{'profession': 'Carpenter', 'process': 'Joining'}\n",
      "Traceback (most recent call last):\n",
      "  File \"/tmp/ipykernel_2349765/420438122.py\", line 20, in batch_map\n",
      "    results = results + fn(example)\n",
      "                        ^^^^^^^^^^^\n",
      "  File \"/tmp/ipykernel_2349765/1408341564.py\", line 191, in generate_process_details\n",
      "    process_detail = json.loads(openrouter_response.choices[0].message.tool_calls[0].function.arguments)\n",
      "                                ~~~~~~~~~~~~~~~~~~~~~~~~~~~^^^\n",
      "TypeError: 'NoneType' object is not subscriptable\n",
      "\n",
      "{'profession': 'Clinical Social Worker', 'process': 'Community Outreach'}\n",
      "Traceback (most recent call last):\n",
      "  File \"/tmp/ipykernel_2349765/420438122.py\", line 20, in batch_map\n",
      "    results = results + fn(example)\n",
      "                        ^^^^^^^^^^^\n",
      "  File \"/tmp/ipykernel_2349765/1408341564.py\", line 191, in generate_process_details\n",
      "    process_detail = json.loads(openrouter_response.choices[0].message.tool_calls[0].function.arguments)\n",
      "                                ~~~~~~~~~~~~~~~~~~~~~~~~~~~^^^\n",
      "TypeError: 'NoneType' object is not subscriptable\n",
      "\n",
      "{'profession': 'Paramedic', 'process': 'Equipment Sterilization'}\n",
      "Traceback (most recent call last):\n",
      "  File \"/tmp/ipykernel_2349765/420438122.py\", line 20, in batch_map\n",
      "    results = results + fn(example)\n",
      "                        ^^^^^^^^^^^\n",
      "  File \"/tmp/ipykernel_2349765/1408341564.py\", line 191, in generate_process_details\n",
      "    process_detail = json.loads(openrouter_response.choices[0].message.tool_calls[0].function.arguments)\n",
      "                                ~~~~~~~~~~~~~~~~~~~~~~~~~~~^^^\n",
      "TypeError: 'NoneType' object is not subscriptable\n",
      "\n",
      "{'profession': 'Massage Therapist', 'process': 'Massage Therapy'}\n",
      "Traceback (most recent call last):\n",
      "  File \"/tmp/ipykernel_2349765/420438122.py\", line 20, in batch_map\n",
      "    results = results + fn(example)\n",
      "                        ^^^^^^^^^^^\n",
      "  File \"/tmp/ipykernel_2349765/1408341564.py\", line 191, in generate_process_details\n",
      "    process_detail = json.loads(openrouter_response.choices[0].message.tool_calls[0].function.arguments)\n",
      "                                ~~~~~~~~~~~~~~~~~~~~~~~~~~~^^^\n",
      "TypeError: 'NoneType' object is not subscriptable\n",
      "\n",
      "{'profession': 'Accountant', 'process': 'Financial Forecasting'}\n",
      "Traceback (most recent call last):\n",
      "  File \"/tmp/ipykernel_2349765/420438122.py\", line 20, in batch_map\n",
      "    results = results + fn(example)\n",
      "                        ^^^^^^^^^^^\n",
      "  File \"/tmp/ipykernel_2349765/1408341564.py\", line 191, in generate_process_details\n",
      "    process_detail = json.loads(openrouter_response.choices[0].message.tool_calls[0].function.arguments)\n",
      "                                ~~~~~~~~~~~~~~~~~~~~~~~~~~~^^^\n",
      "TypeError: 'NoneType' object is not subscriptable\n",
      "\n",
      "{'profession': 'Insurance Agent', 'process': 'Policy Renewal'}\n",
      "Traceback (most recent call last):\n",
      "  File \"/tmp/ipykernel_2349765/420438122.py\", line 20, in batch_map\n",
      "    results = results + fn(example)\n",
      "                        ^^^^^^^^^^^\n",
      "  File \"/tmp/ipykernel_2349765/1408341564.py\", line 191, in generate_process_details\n",
      "    process_detail = json.loads(openrouter_response.choices[0].message.tool_calls[0].function.arguments)\n",
      "                                ~~~~~~~~~~~~~~~~~~~~~~~~~~~^^^\n",
      "TypeError: 'NoneType' object is not subscriptable\n",
      "\n",
      "{'profession': 'Construction Manager', 'process': 'Documentation'}\n",
      "Traceback (most recent call last):\n",
      "  File \"/tmp/ipykernel_2349765/420438122.py\", line 20, in batch_map\n",
      "    results = results + fn(example)\n",
      "                        ^^^^^^^^^^^\n",
      "  File \"/tmp/ipykernel_2349765/1408341564.py\", line 191, in generate_process_details\n",
      "    process_detail = json.loads(openrouter_response.choices[0].message.tool_calls[0].function.arguments)\n",
      "                                ~~~~~~~~~~~~~~~~~~~~~~~~~~~^^^\n",
      "TypeError: 'NoneType' object is not subscriptable\n",
      "\n"
     ]
    },
    {
     "name": "stderr",
     "output_type": "stream",
     "text": [
      "Map (num_proc=4):  87%|████████▋ | 872/1000 [43:42<00:38,  3.31 examples/s]"
     ]
    },
    {
     "name": "stdout",
     "output_type": "stream",
     "text": [
      "{'profession': 'Market Research Analyst', 'process': 'Client Consultation'}\n",
      "Traceback (most recent call last):\n",
      "  File \"/tmp/ipykernel_2349765/420438122.py\", line 20, in batch_map\n",
      "    results = results + fn(example)\n",
      "                        ^^^^^^^^^^^\n",
      "  File \"/tmp/ipykernel_2349765/1408341564.py\", line 191, in generate_process_details\n",
      "    process_detail = json.loads(openrouter_response.choices[0].message.tool_calls[0].function.arguments)\n",
      "                                ~~~~~~~~~~~~~~~~~~~~~~~~~~~^^^\n",
      "TypeError: 'NoneType' object is not subscriptable\n",
      "\n",
      "{'profession': 'Substance Abuse Counselor', 'process': 'Initial Assessment'}\n",
      "Traceback (most recent call last):\n",
      "  File \"/tmp/ipykernel_2349765/420438122.py\", line 20, in batch_map\n",
      "    results = results + fn(example)\n",
      "                        ^^^^^^^^^^^\n",
      "  File \"/tmp/ipykernel_2349765/1408341564.py\", line 191, in generate_process_details\n",
      "    process_detail = json.loads(openrouter_response.choices[0].message.tool_calls[0].function.arguments)\n",
      "                                ~~~~~~~~~~~~~~~~~~~~~~~~~~~^^^\n",
      "TypeError: 'NoneType' object is not subscriptable\n",
      "\n",
      "{'profession': 'Compliance Officer', 'process': 'Compliance Software Management'}\n",
      "Traceback (most recent call last):\n",
      "  File \"/tmp/ipykernel_2349765/420438122.py\", line 20, in batch_map\n",
      "    results = results + fn(example)\n",
      "                        ^^^^^^^^^^^\n",
      "  File \"/tmp/ipykernel_2349765/1408341564.py\", line 191, in generate_process_details\n",
      "    process_detail = json.loads(openrouter_response.choices[0].message.tool_calls[0].function.arguments)\n",
      "                                ~~~~~~~~~~~~~~~~~~~~~~~~~~~^^^\n",
      "TypeError: 'NoneType' object is not subscriptable\n",
      "\n",
      "{'profession': 'Marketing Manager', 'process': 'Customer Relationship Management'}\n",
      "Traceback (most recent call last):\n",
      "  File \"/tmp/ipykernel_2349765/420438122.py\", line 20, in batch_map\n",
      "    results = results + fn(example)\n",
      "                        ^^^^^^^^^^^\n",
      "  File \"/tmp/ipykernel_2349765/1408341564.py\", line 191, in generate_process_details\n",
      "    process_detail = json.loads(openrouter_response.choices[0].message.tool_calls[0].function.arguments)\n",
      "                                ~~~~~~~~~~~~~~~~~~~~~~~~~~~^^^\n",
      "TypeError: 'NoneType' object is not subscriptable\n",
      "\n",
      "{'profession': 'Medical Assistant', 'process': 'Medication Administration'}\n",
      "Traceback (most recent call last):\n",
      "  File \"/tmp/ipykernel_2349765/420438122.py\", line 20, in batch_map\n",
      "    results = results + fn(example)\n",
      "                        ^^^^^^^^^^^\n",
      "  File \"/tmp/ipykernel_2349765/1408341564.py\", line 191, in generate_process_details\n",
      "    process_detail = json.loads(openrouter_response.choices[0].message.tool_calls[0].function.arguments)\n",
      "                                ~~~~~~~~~~~~~~~~~~~~~~~~~~~^^^\n",
      "TypeError: 'NoneType' object is not subscriptable\n",
      "\n",
      "{'profession': 'Sales Manager', 'process': 'Sales Team Training'}\n",
      "Traceback (most recent call last):\n",
      "  File \"/tmp/ipykernel_2349765/420438122.py\", line 20, in batch_map\n",
      "    results = results + fn(example)\n",
      "                        ^^^^^^^^^^^\n",
      "  File \"/tmp/ipykernel_2349765/1408341564.py\", line 191, in generate_process_details\n",
      "    process_detail = json.loads(openrouter_response.choices[0].message.tool_calls[0].function.arguments)\n",
      "                                ~~~~~~~~~~~~~~~~~~~~~~~~~~~^^^\n",
      "TypeError: 'NoneType' object is not subscriptable\n",
      "\n"
     ]
    },
    {
     "name": "stderr",
     "output_type": "stream",
     "text": [
      "Map (num_proc=4):  88%|████████▊ | 880/1000 [43:43<00:23,  5.12 examples/s]"
     ]
    },
    {
     "name": "stdout",
     "output_type": "stream",
     "text": [
      "{'profession': 'Paralegal', 'process': 'Court Filings'}\n",
      "Traceback (most recent call last):\n",
      "  File \"/tmp/ipykernel_2349765/420438122.py\", line 20, in batch_map\n",
      "    results = results + fn(example)\n",
      "                        ^^^^^^^^^^^\n",
      "  File \"/tmp/ipykernel_2349765/1408341564.py\", line 191, in generate_process_details\n",
      "    process_detail = json.loads(openrouter_response.choices[0].message.tool_calls[0].function.arguments)\n",
      "                                ~~~~~~~~~~~~~~~~~~~~~~~~~~~^^^\n",
      "TypeError: 'NoneType' object is not subscriptable\n",
      "\n",
      "{'profession': 'Painter', 'process': 'Mixing Paints'}\n",
      "Traceback (most recent call last):\n",
      "  File \"/tmp/ipykernel_2349765/420438122.py\", line 20, in batch_map\n",
      "    results = results + fn(example)\n",
      "                        ^^^^^^^^^^^\n",
      "  File \"/tmp/ipykernel_2349765/1408341564.py\", line 191, in generate_process_details\n",
      "    process_detail = json.loads(openrouter_response.choices[0].message.tool_calls[0].function.arguments)\n",
      "                                ~~~~~~~~~~~~~~~~~~~~~~~~~~~^^^\n",
      "TypeError: 'NoneType' object is not subscriptable\n",
      "\n"
     ]
    },
    {
     "name": "stderr",
     "output_type": "stream",
     "text": [
      "Map (num_proc=4):  88%|████████▊ | 884/1000 [43:50<01:06,  1.75 examples/s]"
     ]
    },
    {
     "name": "stdout",
     "output_type": "stream",
     "text": [
      "{'profession': 'HR Specialist', 'process': 'Employee Relations'}\n",
      "Traceback (most recent call last):\n",
      "  File \"/tmp/ipykernel_2349765/420438122.py\", line 20, in batch_map\n",
      "    results = results + fn(example)\n",
      "                        ^^^^^^^^^^^\n",
      "  File \"/tmp/ipykernel_2349765/1408341564.py\", line 191, in generate_process_details\n",
      "    process_detail = json.loads(openrouter_response.choices[0].message.tool_calls[0].function.arguments)\n",
      "                                ~~~~~~~~~~~~~~~~~~~~~~~~~~~^^^\n",
      "TypeError: 'NoneType' object is not subscriptable\n",
      "\n",
      "{'profession': 'Landscaper & Groundskeeper', 'process': 'Planting'}\n",
      "Traceback (most recent call last):\n",
      "  File \"/tmp/ipykernel_2349765/420438122.py\", line 20, in batch_map\n",
      "    results = results + fn(example)\n",
      "                        ^^^^^^^^^^^\n",
      "  File \"/tmp/ipykernel_2349765/1408341564.py\", line 191, in generate_process_details\n",
      "    process_detail = json.loads(openrouter_response.choices[0].message.tool_calls[0].function.arguments)\n",
      "                                ~~~~~~~~~~~~~~~~~~~~~~~~~~~^^^\n",
      "TypeError: 'NoneType' object is not subscriptable\n",
      "\n",
      "{'profession': 'High School Teacher', 'process': 'Teaching'}\n",
      "Traceback (most recent call last):\n",
      "  File \"/tmp/ipykernel_2349765/420438122.py\", line 20, in batch_map\n",
      "    results = results + fn(example)\n",
      "                        ^^^^^^^^^^^\n",
      "  File \"/tmp/ipykernel_2349765/1408341564.py\", line 191, in generate_process_details\n",
      "    process_detail = json.loads(openrouter_response.choices[0].message.tool_calls[0].function.arguments)\n",
      "                                ~~~~~~~~~~~~~~~~~~~~~~~~~~~^^^\n",
      "TypeError: 'NoneType' object is not subscriptable\n",
      "\n"
     ]
    },
    {
     "name": "stderr",
     "output_type": "stream",
     "text": [
      "Map (num_proc=4):  89%|████████▉ | 888/1000 [43:50<00:49,  2.27 examples/s]"
     ]
    },
    {
     "name": "stdout",
     "output_type": "stream",
     "text": [
      "{'profession': 'Database Administrator', 'process': 'Troubleshooting'}{'profession': 'Financial Manager', 'process': 'Investment Decisions'}\n",
      "\n",
      "Traceback (most recent call last):\n",
      "  File \"/tmp/ipykernel_2349765/420438122.py\", line 20, in batch_map\n",
      "    results = results + fn(example)\n",
      "                        ^^^^^^^^^^^\n",
      "  File \"/tmp/ipykernel_2349765/1408341564.py\", line 191, in generate_process_details\n",
      "    process_detail = json.loads(openrouter_response.choices[0].message.tool_calls[0].function.arguments)\n",
      "                                ~~~~~~~~~~~~~~~~~~~~~~~~~~~^^^\n",
      "TypeError: 'NoneType' object is not subscriptable\n",
      "Traceback (most recent call last):\n",
      "  File \"/tmp/ipykernel_2349765/420438122.py\", line 20, in batch_map\n",
      "    results = results + fn(example)\n",
      "                        ^^^^^^^^^^^\n",
      "  File \"/tmp/ipykernel_2349765/1408341564.py\", line 191, in generate_process_details\n",
      "    process_detail = json.loads(openrouter_response.choices[0].message.tool_calls[0].function.arguments)\n",
      "                                ~~~~~~~~~~~~~~~~~~~~~~~~~~~^^^\n",
      "TypeError: 'NoneType' object is not subscriptable\n",
      "\n",
      "\n",
      "{'profession': 'Carpenter', 'process': 'Material Selection'}\n",
      "Traceback (most recent call last):\n",
      "  File \"/tmp/ipykernel_2349765/420438122.py\", line 20, in batch_map\n",
      "    results = results + fn(example)\n",
      "                        ^^^^^^^^^^^\n",
      "  File \"/tmp/ipykernel_2349765/1408341564.py\", line 191, in generate_process_details\n",
      "    process_detail = json.loads(openrouter_response.choices[0].message.tool_calls[0].function.arguments)\n",
      "                                ~~~~~~~~~~~~~~~~~~~~~~~~~~~^^^\n",
      "TypeError: 'NoneType' object is not subscriptable\n",
      "\n",
      "{'profession': 'Civil Engineer', 'process': 'Risk Assessment'}\n",
      "Traceback (most recent call last):\n",
      "  File \"/tmp/ipykernel_2349765/420438122.py\", line 20, in batch_map\n",
      "    results = results + fn(example)\n",
      "                        ^^^^^^^^^^^\n",
      "  File \"/tmp/ipykernel_2349765/1408341564.py\", line 191, in generate_process_details\n",
      "    process_detail = json.loads(openrouter_response.choices[0].message.tool_calls[0].function.arguments)\n",
      "                                ~~~~~~~~~~~~~~~~~~~~~~~~~~~^^^\n",
      "TypeError: 'NoneType' object is not subscriptable\n",
      "\n",
      "{'profession': 'School Psychologist', 'process': 'Student Assessment'}\n",
      "Traceback (most recent call last):\n",
      "  File \"/tmp/ipykernel_2349765/420438122.py\", line 20, in batch_map\n",
      "    results = results + fn(example)\n",
      "                        ^^^^^^^^^^^\n",
      "  File \"/tmp/ipykernel_2349765/1408341564.py\", line 191, in generate_process_details\n",
      "    process_detail = json.loads(openrouter_response.choices[0].message.tool_calls[0].function.arguments)\n",
      "                                ~~~~~~~~~~~~~~~~~~~~~~~~~~~^^^\n",
      "TypeError: 'NoneType' object is not subscriptable\n",
      "\n",
      "{'profession': 'Receptionist', 'process': 'Maintaining Reception Area'}\n",
      "Traceback (most recent call last):\n",
      "  File \"/tmp/ipykernel_2349765/420438122.py\", line 20, in batch_map\n",
      "    results = results + fn(example)\n",
      "                        ^^^^^^^^^^^\n",
      "  File \"/tmp/ipykernel_2349765/1408341564.py\", line 191, in generate_process_details\n",
      "    process_detail = json.loads(openrouter_response.choices[0].message.tool_calls[0].function.arguments)\n",
      "                                ~~~~~~~~~~~~~~~~~~~~~~~~~~~^^^\n",
      "TypeError: 'NoneType' object is not subscriptable\n",
      "\n"
     ]
    },
    {
     "name": "stderr",
     "output_type": "stream",
     "text": [
      "Map (num_proc=4):  89%|████████▉ | 892/1000 [43:55<01:14,  1.45 examples/s]"
     ]
    },
    {
     "name": "stdout",
     "output_type": "stream",
     "text": [
      "{'profession': 'Telemarketer', 'process': 'Lead Generation'}\n",
      "Traceback (most recent call last):\n",
      "  File \"/tmp/ipykernel_2349765/420438122.py\", line 20, in batch_map\n",
      "    results = results + fn(example)\n",
      "                        ^^^^^^^^^^^\n",
      "  File \"/tmp/ipykernel_2349765/1408341564.py\", line 191, in generate_process_details\n",
      "    process_detail = json.loads(openrouter_response.choices[0].message.tool_calls[0].function.arguments)\n",
      "                                ~~~~~~~~~~~~~~~~~~~~~~~~~~~^^^\n",
      "TypeError: 'NoneType' object is not subscriptable\n",
      "\n",
      "{'profession': 'Veterinarian', 'process': 'Surgery'}\n",
      "Traceback (most recent call last):\n",
      "  File \"/tmp/ipykernel_2349765/420438122.py\", line 20, in batch_map\n",
      "    results = results + fn(example)\n",
      "                        ^^^^^^^^^^^\n",
      "  File \"/tmp/ipykernel_2349765/1408341564.py\", line 191, in generate_process_details\n",
      "    process_detail = json.loads(openrouter_response.choices[0].message.tool_calls[0].function.arguments)\n",
      "                                ~~~~~~~~~~~~~~~~~~~~~~~~~~~^^^\n",
      "TypeError: 'NoneType' object is not subscriptable\n",
      "\n",
      "{'profession': 'Loan Officer', 'process': 'Regulatory Compliance'}\n",
      "Traceback (most recent call last):\n",
      "  File \"/tmp/ipykernel_2349765/420438122.py\", line 20, in batch_map\n",
      "    results = results + fn(example)\n",
      "                        ^^^^^^^^^^^\n",
      "  File \"/tmp/ipykernel_2349765/1408341564.py\", line 191, in generate_process_details\n",
      "    process_detail = json.loads(openrouter_response.choices[0].message.tool_calls[0].function.arguments)\n",
      "                                ~~~~~~~~~~~~~~~~~~~~~~~~~~~^^^\n",
      "TypeError: 'NoneType' object is not subscriptable\n",
      "\n",
      "{'profession': 'Cashier', 'process': 'Handling Cash Payments'}\n",
      "Traceback (most recent call last):\n",
      "  File \"/tmp/ipykernel_2349765/420438122.py\", line 20, in batch_map\n",
      "    results = results + fn(example)\n",
      "                        ^^^^^^^^^^^\n",
      "  File \"/tmp/ipykernel_2349765/1408341564.py\", line 191, in generate_process_details\n",
      "    process_detail = json.loads(openrouter_response.choices[0].message.tool_calls[0].function.arguments)\n",
      "                                ~~~~~~~~~~~~~~~~~~~~~~~~~~~^^^\n",
      "TypeError: 'NoneType' object is not subscriptable\n",
      "\n"
     ]
    },
    {
     "name": "stderr",
     "output_type": "stream",
     "text": [
      "Map (num_proc=4):  90%|████████▉ | 896/1000 [43:56<00:56,  1.83 examples/s]"
     ]
    },
    {
     "name": "stdout",
     "output_type": "stream",
     "text": [
      "{'profession': 'Paramedic', 'process': 'Public Education'}\n",
      "Traceback (most recent call last):\n",
      "  File \"/tmp/ipykernel_2349765/420438122.py\", line 20, in batch_map\n",
      "    results = results + fn(example)\n",
      "                        ^^^^^^^^^^^\n",
      "  File \"/tmp/ipykernel_2349765/1408341564.py\", line 191, in generate_process_details\n",
      "    process_detail = json.loads(openrouter_response.choices[0].message.tool_calls[0].function.arguments)\n",
      "                                ~~~~~~~~~~~~~~~~~~~~~~~~~~~^^^\n",
      "TypeError: 'NoneType' object is not subscriptable\n",
      "\n",
      "{'profession': 'Meeting, Convention & Event Planner', 'process': 'Venue Selection'}\n",
      "Traceback (most recent call last):\n",
      "  File \"/tmp/ipykernel_2349765/420438122.py\", line 20, in batch_map\n",
      "    results = results + fn(example)\n",
      "                        ^^^^^^^^^^^\n",
      "  File \"/tmp/ipykernel_2349765/1408341564.py\", line 191, in generate_process_details\n",
      "    process_detail = json.loads(openrouter_response.choices[0].message.tool_calls[0].function.arguments)\n",
      "                                ~~~~~~~~~~~~~~~~~~~~~~~~~~~^^^\n",
      "TypeError: 'NoneType' object is not subscriptable\n",
      "\n"
     ]
    },
    {
     "name": "stderr",
     "output_type": "stream",
     "text": [
      "Map (num_proc=4):  90%|█████████ | 900/1000 [43:57<00:46,  2.17 examples/s]"
     ]
    },
    {
     "name": "stdout",
     "output_type": "stream",
     "text": [
      "{'profession': 'Maid & Housekeeper', 'process': 'Pet Care'}\n",
      "Traceback (most recent call last):\n",
      "  File \"/tmp/ipykernel_2349765/420438122.py\", line 20, in batch_map\n",
      "    results = results + fn(example)\n",
      "                        ^^^^^^^^^^^\n",
      "  File \"/tmp/ipykernel_2349765/1408341564.py\", line 191, in generate_process_details\n",
      "    process_detail = json.loads(openrouter_response.choices[0].message.tool_calls[0].function.arguments)\n",
      "                                ~~~~~~~~~~~~~~~~~~~~~~~~~~~^^^\n",
      "TypeError: 'NoneType' object is not subscriptable\n",
      "\n",
      "{'profession': 'Physical Therapist Assistant', 'process': 'Patient Mobility Assistance'}\n",
      "Traceback (most recent call last):\n",
      "  File \"/tmp/ipykernel_2349765/420438122.py\", line 20, in batch_map\n",
      "    results = results + fn(example)\n",
      "                        ^^^^^^^^^^^\n",
      "  File \"/tmp/ipykernel_2349765/1408341564.py\", line 191, in generate_process_details\n",
      "    process_detail = json.loads(openrouter_response.choices[0].message.tool_calls[0].function.arguments)\n",
      "                                ~~~~~~~~~~~~~~~~~~~~~~~~~~~^^^\n",
      "TypeError: 'NoneType' object is not subscriptable\n",
      "\n",
      "{'profession': 'Pharmacy Technician', 'process': 'Medication Dispensing'}\n",
      "Traceback (most recent call last):\n",
      "  File \"/tmp/ipykernel_2349765/420438122.py\", line 20, in batch_map\n",
      "    results = results + fn(example)\n",
      "                        ^^^^^^^^^^^\n",
      "  File \"/tmp/ipykernel_2349765/1408341564.py\", line 191, in generate_process_details\n",
      "    process_detail = json.loads(openrouter_response.choices[0].message.tool_calls[0].function.arguments)\n",
      "                                ~~~~~~~~~~~~~~~~~~~~~~~~~~~^^^\n",
      "TypeError: 'NoneType' object is not subscriptable\n",
      "\n"
     ]
    },
    {
     "name": "stderr",
     "output_type": "stream",
     "text": [
      "Map (num_proc=4):  90%|█████████ | 904/1000 [43:58<00:37,  2.56 examples/s]"
     ]
    },
    {
     "name": "stdout",
     "output_type": "stream",
     "text": [
      "{'profession': 'Logistician', 'process': 'Supply Chain Management'}\n",
      "Traceback (most recent call last):\n",
      "  File \"/tmp/ipykernel_2349765/420438122.py\", line 20, in batch_map\n",
      "    results = results + fn(example)\n",
      "                        ^^^^^^^^^^^\n",
      "  File \"/tmp/ipykernel_2349765/1408341564.py\", line 191, in generate_process_details\n",
      "    process_detail = json.loads(openrouter_response.choices[0].message.tool_calls[0].function.arguments)\n",
      "                                ~~~~~~~~~~~~~~~~~~~~~~~~~~~^^^\n",
      "TypeError: 'NoneType' object is not subscriptable\n",
      "\n"
     ]
    },
    {
     "name": "stderr",
     "output_type": "stream",
     "text": [
      "Map (num_proc=4):  91%|█████████ | 908/1000 [43:58<00:27,  3.37 examples/s]"
     ]
    },
    {
     "name": "stdout",
     "output_type": "stream",
     "text": [
      "{'profession': 'Elementary School Teacher', 'process': 'Student Assessment'}\n",
      "Traceback (most recent call last):\n",
      "  File \"/tmp/ipykernel_2349765/420438122.py\", line 20, in batch_map\n",
      "    results = results + fn(example)\n",
      "                        ^^^^^^^^^^^\n",
      "  File \"/tmp/ipykernel_2349765/1408341564.py\", line 196, in generate_process_details\n",
      "    \"description\": process_detail[\"description\"],\n",
      "                   ~~~~~~~~~~~~~~^^^^^^^^^^^^^^^\n",
      "KeyError: 'description'\n",
      "\n"
     ]
    },
    {
     "name": "stderr",
     "output_type": "stream",
     "text": [
      "Map (num_proc=4):  91%|█████████ | 912/1000 [44:00<00:30,  2.90 examples/s]"
     ]
    },
    {
     "name": "stdout",
     "output_type": "stream",
     "text": [
      "{'profession': 'Massage Therapist', 'process': 'Updating Client Records'}\n",
      "Traceback (most recent call last):\n",
      "  File \"/tmp/ipykernel_2349765/420438122.py\", line 20, in batch_map\n",
      "    results = results + fn(example)\n",
      "                        ^^^^^^^^^^^\n",
      "  File \"/tmp/ipykernel_2349765/1408341564.py\", line 191, in generate_process_details\n",
      "    process_detail = json.loads(openrouter_response.choices[0].message.tool_calls[0].function.arguments)\n",
      "                                ~~~~~~~~~~~~~~~~~~~~~~~~~~~^^^\n",
      "TypeError: 'NoneType' object is not subscriptable\n",
      "\n",
      "{'profession': 'Financial Advisor', 'process': 'Risk Assessment'}\n",
      "Traceback (most recent call last):\n",
      "  File \"/tmp/ipykernel_2349765/420438122.py\", line 20, in batch_map\n",
      "    results = results + fn(example)\n",
      "                        ^^^^^^^^^^^\n",
      "  File \"/tmp/ipykernel_2349765/1408341564.py\", line 191, in generate_process_details\n",
      "    process_detail = json.loads(openrouter_response.choices[0].message.tool_calls[0].function.arguments)\n",
      "                                ~~~~~~~~~~~~~~~~~~~~~~~~~~~^^^\n",
      "TypeError: 'NoneType' object is not subscriptable\n",
      "\n",
      "{'profession': 'Electrician', 'process': 'Follow Safety Procedures'}\n",
      "Traceback (most recent call last):\n",
      "  File \"/tmp/ipykernel_2349765/420438122.py\", line 20, in batch_map\n",
      "    results = results + fn(example)\n",
      "                        ^^^^^^^^^^^\n",
      "  File \"/tmp/ipykernel_2349765/1408341564.py\", line 191, in generate_process_details\n",
      "    process_detail = json.loads(openrouter_response.choices[0].message.tool_calls[0].function.arguments)\n",
      "                                ~~~~~~~~~~~~~~~~~~~~~~~~~~~^^^\n",
      "TypeError: 'NoneType' object is not subscriptable\n",
      "\n",
      "{'profession': 'Accountant', 'process': 'Accounts Payable'}\n",
      "Traceback (most recent call last):\n",
      "  File \"/tmp/ipykernel_2349765/420438122.py\", line 20, in batch_map\n",
      "    results = results + fn(example)\n",
      "                        ^^^^^^^^^^^\n",
      "  File \"/tmp/ipykernel_2349765/1408341564.py\", line 191, in generate_process_details\n",
      "    process_detail = json.loads(openrouter_response.choices[0].message.tool_calls[0].function.arguments)\n",
      "                                ~~~~~~~~~~~~~~~~~~~~~~~~~~~^^^\n",
      "TypeError: 'NoneType' object is not subscriptable\n",
      "\n"
     ]
    },
    {
     "name": "stderr",
     "output_type": "stream",
     "text": [
      "Map (num_proc=4):  92%|█████████▏| 916/1000 [44:01<00:25,  3.29 examples/s]"
     ]
    },
    {
     "name": "stdout",
     "output_type": "stream",
     "text": [
      "{'profession': 'School Psychologist', 'process': 'Consultation with Teachers'}\n",
      "Traceback (most recent call last):\n",
      "  File \"/tmp/ipykernel_2349765/420438122.py\", line 20, in batch_map\n",
      "    results = results + fn(example)\n",
      "                        ^^^^^^^^^^^\n",
      "  File \"/tmp/ipykernel_2349765/1408341564.py\", line 191, in generate_process_details\n",
      "    process_detail = json.loads(openrouter_response.choices[0].message.tool_calls[0].function.arguments)\n",
      "                                ~~~~~~~~~~~~~~~~~~~~~~~~~~~^^^\n",
      "TypeError: 'NoneType' object is not subscriptable\n",
      "\n",
      "{'profession': 'Mental Health Counselor', 'process': 'Progress Monitoring'}\n",
      "Traceback (most recent call last):\n",
      "  File \"/tmp/ipykernel_2349765/420438122.py\", line 20, in batch_map\n",
      "    results = results + fn(example)\n",
      "                        ^^^^^^^^^^^\n",
      "  File \"/tmp/ipykernel_2349765/1408341564.py\", line 191, in generate_process_details\n",
      "    process_detail = json.loads(openrouter_response.choices[0].message.tool_calls[0].function.arguments)\n",
      "                                ~~~~~~~~~~~~~~~~~~~~~~~~~~~^^^\n",
      "TypeError: 'NoneType' object is not subscriptable\n",
      "\n"
     ]
    },
    {
     "name": "stderr",
     "output_type": "stream",
     "text": [
      "Map (num_proc=4):  92%|█████████▏| 920/1000 [44:06<00:49,  1.60 examples/s]"
     ]
    },
    {
     "name": "stdout",
     "output_type": "stream",
     "text": [
      "{'profession': 'Landscaper & Groundskeeper', 'process': 'Landscape Design'}\n",
      "Traceback (most recent call last):\n",
      "  File \"/tmp/ipykernel_2349765/420438122.py\", line 20, in batch_map\n",
      "    results = results + fn(example)\n",
      "                        ^^^^^^^^^^^\n",
      "  File \"/tmp/ipykernel_2349765/1408341564.py\", line 191, in generate_process_details\n",
      "    process_detail = json.loads(openrouter_response.choices[0].message.tool_calls[0].function.arguments)\n",
      "                                ~~~~~~~~~~~~~~~~~~~~~~~~~~~^^^\n",
      "TypeError: 'NoneType' object is not subscriptable\n",
      "\n",
      "{'profession': 'IT Manager', 'process': 'Staff Training'}\n",
      "Traceback (most recent call last):\n",
      "  File \"/tmp/ipykernel_2349765/420438122.py\", line 20, in batch_map\n",
      "    results = results + fn(example)\n",
      "                        ^^^^^^^^^^^\n",
      "  File \"/tmp/ipykernel_2349765/1408341564.py\", line 191, in generate_process_details\n",
      "    process_detail = json.loads(openrouter_response.choices[0].message.tool_calls[0].function.arguments)\n",
      "                                ~~~~~~~~~~~~~~~~~~~~~~~~~~~^^^\n",
      "TypeError: 'NoneType' object is not subscriptable\n",
      "\n"
     ]
    },
    {
     "name": "stderr",
     "output_type": "stream",
     "text": [
      "Map (num_proc=4):  92%|█████████▏| 922/1000 [44:07<00:42,  1.84 examples/s]"
     ]
    },
    {
     "name": "stdout",
     "output_type": "stream",
     "text": [
      "{'profession': 'Veterinary Technologist & Technician', 'process': 'Vaccination Administration'}\n",
      "Traceback (most recent call last):\n",
      "  File \"/tmp/ipykernel_2349765/420438122.py\", line 20, in batch_map\n",
      "    results = results + fn(example)\n",
      "                        ^^^^^^^^^^^\n",
      "  File \"/tmp/ipykernel_2349765/1408341564.py\", line 196, in generate_process_details\n",
      "    \"description\": process_detail[\"description\"],\n",
      "                   ~~~~~~~~~~~~~~^^^^^^^^^^^^^^^\n",
      "KeyError: 'description'\n",
      "\n"
     ]
    },
    {
     "name": "stderr",
     "output_type": "stream",
     "text": [
      "Map (num_proc=4):  92%|█████████▏| 924/1000 [44:11<01:07,  1.13 examples/s]"
     ]
    },
    {
     "name": "stdout",
     "output_type": "stream",
     "text": [
      "{'profession': 'Dentist', 'process': 'Treatment Planning'}\n",
      "Traceback (most recent call last):\n",
      "  File \"/tmp/ipykernel_2349765/420438122.py\", line 20, in batch_map\n",
      "    results = results + fn(example)\n",
      "                        ^^^^^^^^^^^\n",
      "  File \"/tmp/ipykernel_2349765/1408341564.py\", line 191, in generate_process_details\n",
      "    process_detail = json.loads(openrouter_response.choices[0].message.tool_calls[0].function.arguments)\n",
      "                                ~~~~~~~~~~~~~~~~~~~~~~~~~~~^^^\n",
      "TypeError: 'NoneType' object is not subscriptable\n",
      "\n"
     ]
    },
    {
     "name": "stderr",
     "output_type": "stream",
     "text": [
      "Map (num_proc=4):  93%|█████████▎| 932/1000 [45:05<05:31,  4.88s/ examples]"
     ]
    },
    {
     "name": "stdout",
     "output_type": "stream",
     "text": [
      "{'profession': 'Marriage & Family Therapist', 'process': 'Group Therapy Sessions'}\n",
      "Traceback (most recent call last):\n",
      "  File \"/tmp/ipykernel_2349765/420438122.py\", line 20, in batch_map\n",
      "    results = results + fn(example)\n",
      "                        ^^^^^^^^^^^\n",
      "  File \"/tmp/ipykernel_2349765/1408341564.py\", line 206, in generate_process_details\n",
      "    \"sourroundings\": process_detail[\"sourroundings\"],\n",
      "                     ~~~~~~~~~~~~~~^^^^^^^^^^^^^^^^^\n",
      "KeyError: 'sourroundings'\n",
      "\n"
     ]
    },
    {
     "name": "stderr",
     "output_type": "stream",
     "text": [
      "Map (num_proc=4):  94%|█████████▍| 940/1000 [45:40<04:29,  4.49s/ examples]"
     ]
    },
    {
     "name": "stdout",
     "output_type": "stream",
     "text": [
      "{'profession': 'Clinical Laboratory Technician', 'process': 'Sample Collection'}\n",
      "Traceback (most recent call last):\n",
      "  File \"/tmp/ipykernel_2349765/420438122.py\", line 20, in batch_map\n",
      "    results = results + fn(example)\n",
      "                        ^^^^^^^^^^^\n",
      "  File \"/tmp/ipykernel_2349765/1408341564.py\", line 197, in generate_process_details\n",
      "    \"location1\": process_detail[\"location1\"],\n",
      "                 ~~~~~~~~~~~~~~^^^^^^^^^^^^^\n",
      "KeyError: 'location1'\n",
      "\n"
     ]
    },
    {
     "name": "stderr",
     "output_type": "stream",
     "text": [
      "Map (num_proc=4):  95%|█████████▍| 948/1000 [46:30<04:30,  5.20s/ examples]"
     ]
    },
    {
     "name": "stdout",
     "output_type": "stream",
     "text": [
      "{'profession': 'Computer Programmer', 'process': 'Collaboration'}\n",
      "Traceback (most recent call last):\n",
      "  File \"/tmp/ipykernel_2349765/420438122.py\", line 20, in batch_map\n",
      "    results = results + fn(example)\n",
      "                        ^^^^^^^^^^^\n",
      "  File \"/tmp/ipykernel_2349765/1408341564.py\", line 196, in generate_process_details\n",
      "    \"description\": process_detail[\"description\"],\n",
      "                   ~~~~~~~~~~~~~~^^^^^^^^^^^^^^^\n",
      "KeyError: 'description'\n",
      "\n"
     ]
    },
    {
     "name": "stderr",
     "output_type": "stream",
     "text": [
      "Map (num_proc=4):  96%|█████████▌| 956/1000 [47:33<04:23,  5.99s/ examples]"
     ]
    },
    {
     "name": "stdout",
     "output_type": "stream",
     "text": [
      "{'profession': 'Loan Officer', 'process': 'Loan Repayment Monitoring'}\n",
      "Traceback (most recent call last):\n",
      "  File \"/tmp/ipykernel_2349765/420438122.py\", line 20, in batch_map\n",
      "    results = results + fn(example)\n",
      "                        ^^^^^^^^^^^\n",
      "  File \"/tmp/ipykernel_2349765/1408341564.py\", line 196, in generate_process_details\n",
      "    \"description\": process_detail[\"description\"],\n",
      "                   ~~~~~~~~~~~~~~^^^^^^^^^^^^^^^\n",
      "KeyError: 'description'\n",
      "\n"
     ]
    },
    {
     "name": "stderr",
     "output_type": "stream",
     "text": [
      "Map (num_proc=4):  96%|█████████▋| 964/1000 [48:29<03:40,  6.14s/ examples]"
     ]
    },
    {
     "name": "stdout",
     "output_type": "stream",
     "text": [
      "{'profession': 'Registered Nurse', 'process': 'Wound Care'}\n",
      "Traceback (most recent call last):\n",
      "  File \"/tmp/ipykernel_2349765/420438122.py\", line 20, in batch_map\n",
      "    results = results + fn(example)\n",
      "                        ^^^^^^^^^^^\n",
      "  File \"/tmp/ipykernel_2349765/1408341564.py\", line 196, in generate_process_details\n",
      "    \"description\": process_detail[\"description\"],\n",
      "                   ~~~~~~~~~~~~~~^^^^^^^^^^^^^^^\n",
      "KeyError: 'description'\n",
      "\n"
     ]
    },
    {
     "name": "stderr",
     "output_type": "stream",
     "text": [
      "Map (num_proc=4): 100%|██████████| 1000/1000 [53:13<00:00,  3.19s/ examples]\n",
      "Creating parquet from Arrow format: 100%|██████████| 1/1 [00:00<00:00, 14.45ba/s]\n",
      "Uploading the dataset shards: 100%|██████████| 1/1 [00:01<00:00,  1.72s/it]\n"
     ]
    },
    {
     "data": {
      "text/plain": [
       "CommitInfo(commit_url='https://huggingface.co/datasets/lucaelin/generic_process_details_v1/commit/bd6c710320c3ede56abaa33a58d9842864234392', commit_message='Upload dataset', commit_description='', oid='bd6c710320c3ede56abaa33a58d9842864234392', pr_url=None, pr_revision=None, pr_num=None)"
      ]
     },
     "execution_count": 10,
     "metadata": {},
     "output_type": "execute_result"
    }
   ],
   "source": [
    "\n",
    "import random\n",
    "from datasets import load_dataset, Dataset\n",
    "import json\n",
    "from openai.types.chat.chat_completion import ChatCompletion\n",
    "import os\n",
    "\n",
    "process_details_schema = {\n",
    "    \"type\": \"object\",\n",
    "    \"properties\": {\n",
    "        \"description\": {\n",
    "            \"type\": \"string\",\n",
    "            \"description\": \"A detailed description of the process, when it is done, how it is done, and why it is done, and what its outcome should be.\"\n",
    "        },\n",
    "        \"location1\": {\n",
    "            \"type\": \"string\",\n",
    "            \"examples\": [\"indoor\", \"outdoor\", \"indoor/outdoor\"],\n",
    "            \"description\": \"The location where the process is done primarily.\"\n",
    "        },\n",
    "        \"location2\": {\n",
    "            \"type\": \"string\",\n",
    "            \"examples\": [\"office\", \"cubical\", \"desk\", \"vehicle\", \"factory\", \"site\"],\n",
    "            \"description\": \"The location where the process is done primarily.\"\n",
    "        },\n",
    "        \"location_name\": {\n",
    "            \"type\": \"string\",\n",
    "            \"examples\": [\"clinic\", \"school\", \"plane\"],\n",
    "            \"description\": \"The name of the location where the process is done primarily.\"\n",
    "        },\n",
    "        \"challenge\": {\n",
    "            \"type\": \"string\",\n",
    "            \"examples\": [\"physical\", \"mental\", \"verbal\", \"emotional\", \"spiritual\"],\n",
    "            \"description\": \"The main challenge that the process presents.\"\n",
    "        },\n",
    "        \"duration\": {\n",
    "            \"type\": \"string\",\n",
    "            \"examples\": [\"1m\", \"30m\", \"1h\", \"3d\"],\n",
    "            \"description\": \"The duration of the process.\"\n",
    "        },\n",
    "        \"frequency\": {\n",
    "            \"type\": \"string\",\n",
    "            \"examples\": [\"continuous\", \"hourly\", \"daily\", \"weekly\", \"monthly\", \"yearly\"],\n",
    "            \"description\": \"The frequency of the process.\"\n",
    "        },\n",
    "        \"risks\": {\n",
    "            \"type\": \"array\",\n",
    "            \"description\": \"A list of risks associated with the process.\",\n",
    "            \"items\": {\n",
    "                \"type\": \"object\",\n",
    "                \"properties\": {\n",
    "                    \"name\": {\n",
    "                        \"type\": \"string\",\n",
    "                        \"examples\": [\"fall\", \"injury\", \"accident\", \"illness\"],\n",
    "                        \"description\": \"The name of the risk.\"\n",
    "                    },\n",
    "                    \"description\": {\n",
    "                        \"type\": \"string\",\n",
    "                        \"description\": \"A detailed description of the risk and how it can be mitigated.\"\n",
    "                    }\n",
    "                }\n",
    "            }\n",
    "        },\n",
    "        \"equipment\": {\n",
    "            \"type\": \"array\",\n",
    "            \"description\": \"A list of equipment that is used in the process.\",\n",
    "            \"items\": {\n",
    "                \"type\": \"object\",\n",
    "                \"properties\": {\n",
    "                    \"name\": {\n",
    "                        \"type\": \"string\",\n",
    "                        \"examples\": [\"stethoscope\", \"laptop\", \"screwdriver\"],\n",
    "                        \"description\": \"The name of the equipment.\"\n",
    "                    },\n",
    "                    \"description\": {\n",
    "                        \"type\": \"string\",\n",
    "                        \"description\": \"A detailed description of the equipment and how it is used.\"\n",
    "                    }\n",
    "                }\n",
    "            }\n",
    "        },\n",
    "        \"localities\": {\n",
    "            \"type\": \"array\",\n",
    "            \"description\": \"A list of all localities involved in the process.\",\n",
    "            \"items\": {\n",
    "                \"type\": \"object\",\n",
    "                \"properties\": {\n",
    "                    \"name\": {\n",
    "                        \"type\": \"string\",\n",
    "                        \"examples\": [\"treatment room\", \"classroom\", \"passenger cabin\"],\n",
    "                        \"description\": \"The name of the locality.\"\n",
    "                    },\n",
    "                    \"description\": {\n",
    "                        \"type\": \"string\",\n",
    "                        \"description\": \"A detailed description of the locality and how it is involved.\"\n",
    "                    },\n",
    "                }\n",
    "            }\n",
    "        },\n",
    "        \"sourroundings\": {\n",
    "            \"type\": \"array\",\n",
    "            \"description\": \"A list of all sourroundings supporting in the process.\",\n",
    "            \"items\": {\n",
    "                \"type\": \"object\",\n",
    "                \"properties\": {\n",
    "                    \"name\": {\n",
    "                        \"type\": \"string\",\n",
    "                        \"examples\": [\"waiting room\", \"playground\", \"kitchen\"],\n",
    "                        \"description\": \"The name of the sourrounding.\"\n",
    "                    },\n",
    "                    \"description\": {\n",
    "                        \"type\": \"string\",\n",
    "                        \"description\": \"A detailed description of the sourrounding and how it supports the process.\"\n",
    "                    },\n",
    "                }\n",
    "            }\n",
    "        },\n",
    "        \"people\": {\n",
    "            \"type\": \"array\",\n",
    "            \"description\": \"A list of all people involved in the process.\",\n",
    "            \"items\": {\n",
    "                \"type\": \"object\",\n",
    "                \"properties\": {\n",
    "                    \"name\": {\n",
    "                        \"type\": \"string\",\n",
    "                        \"examples\": [\"patient\", \"student\", \"passenger\"],\n",
    "                        \"description\": \"The name of the person.\"\n",
    "                    },\n",
    "                    \"description\": {\n",
    "                        \"type\": \"string\",\n",
    "                        \"description\": \"A detailed description of the person and how they are involved.\"\n",
    "                    },\n",
    "                }\n",
    "            }\n",
    "        },\n",
    "    },\n",
    "    \"required\": [\"name\", \"description\", \"location1\", \"location2\", \"location_name\", \"challenge\", \"duration\", \"frequency\", \"risks\", \"equipment\", \"localities\", \"sourroundings\", \"people\"],\n",
    "    \"additionalProperties\": False\n",
    "}\n",
    "\n",
    "def generate_process_details(entry):\n",
    "    results = []\n",
    "\n",
    "    available_models = [\n",
    "        \"mistralai/mistral-nemo\",\n",
    "        #\"mistralai/mixtral-8x7b-instruct\",\n",
    "        \"mistralai/mixtral-8x22b-instruct\",\n",
    "        \"mistralai/mixtral-8x22b-instruct\",\n",
    "        \"mistralai/mixtral-8x22b-instruct\",\n",
    "        \"mistralai/mixtral-8x22b-instruct\",\n",
    "        \"mistralai/mistral-small\",\n",
    "        #\"mistralai/mistral-medium\",\n",
    "        \"mistralai/mistral-large\"\n",
    "    ]\n",
    "\n",
    "    model = random.choice(available_models)\n",
    "\n",
    "    openrouter_response: ChatCompletion = openrouter.chat.completions.create(\n",
    "        model=model,\n",
    "        messages=[{\n",
    "            \"role\": \"system\",\n",
    "            \"content\": f\"You are an expert {entry['profession']}. You are tasked with describing your job and all that it entails.\"\n",
    "        }, {\n",
    "            \"role\": \"user\",\n",
    "            \"content\": f\"Generate a detailed description for the profession {entry['profession']} in the process {entry['process']}. \"\n",
    "        }],\n",
    "        tools=[{\n",
    "            \"type\": \"function\",\n",
    "            \"function\": {\n",
    "                \"name\": \"generate_process_details\",\n",
    "                \"parameters\": process_details_schema,\n",
    "            },\n",
    "        }],\n",
    "        tool_choice=\"required\",\n",
    "        max_tokens=8191,\n",
    "        temperature=1.2,\n",
    "        extra_body={\n",
    "            \"provider\": {\n",
    "                \"require_parameters\": True,\n",
    "            },\n",
    "        }\n",
    "    )\n",
    "\n",
    "    process_detail = json.loads(openrouter_response.choices[0].message.tool_calls[0].function.arguments)\n",
    "\n",
    "    results.append({\n",
    "        \"profession\": entry[\"profession\"],\n",
    "        \"process\": entry[\"process\"],\n",
    "        \"description\": process_detail[\"description\"],\n",
    "        \"location1\": process_detail[\"location1\"],\n",
    "        \"location2\": process_detail[\"location2\"],\n",
    "        \"location_name\": process_detail[\"location_name\"],\n",
    "        \"challenge\": process_detail[\"challenge\"],\n",
    "        \"duration\": process_detail[\"duration\"],\n",
    "        \"frequency\": process_detail[\"frequency\"],\n",
    "        \"risks\": process_detail[\"risks\"],\n",
    "        \"equipment\": process_detail[\"equipment\"],\n",
    "        \"localities\": process_detail[\"localities\"],\n",
    "        \"sourroundings\": process_detail[\"sourroundings\"],\n",
    "        \"people\": process_detail[\"people\"],\n",
    "    })\n",
    "    \n",
    "    return results\n",
    "\n",
    "\n",
    "processes = load_dataset(\"lucaelin/generic_processes_v1\", split=\"train\")\n",
    "domain_actions = processes.shuffle().map(\n",
    "    sane_batch_map(generate_process_details, {\"profession\": [], \"process\": [], \"description\": [], \"location1\": [], \"location2\": [], \"location_name\": [], \"challenge\": [], \"duration\": [], \"frequency\": [], \"importance\": [], \"equipment\": [], \"localities\": [], \"sourroundings\": [], \"people\": []}),\n",
    "    batched=True, \n",
    "    batch_size=4, \n",
    "    num_proc=4, \n",
    "    remove_columns=processes.column_names\n",
    ")\n",
    "#domain_actions.sort([\"profession\", \"process\"]).to_list()\n",
    "domain_actions.sort([\"profession\", \"process\"]).push_to_hub(\"lucaelin/generic_process_details_v1\")"
   ]
  }
 ],
 "metadata": {
  "accelerator": "GPU",
  "colab": {
   "gpuType": "T4",
   "provenance": []
  },
  "kernelspec": {
   "display_name": "Python 3",
   "language": "python",
   "name": "python3"
  },
  "language_info": {
   "codemirror_mode": {
    "name": "ipython",
    "version": 3
   },
   "file_extension": ".py",
   "mimetype": "text/x-python",
   "name": "python",
   "nbconvert_exporter": "python",
   "pygments_lexer": "ipython3",
   "version": "3.12.3"
  },
  "widgets": {
   "application/vnd.jupyter.widget-state+json": {
    "46849bd1b027480baf88dab488a46042": {
     "model_module": "@jupyter-widgets/controls",
     "model_module_version": "1.5.0",
     "model_name": "DescriptionStyleModel",
     "state": {
      "_model_module": "@jupyter-widgets/controls",
      "_model_module_version": "1.5.0",
      "_model_name": "DescriptionStyleModel",
      "_view_count": null,
      "_view_module": "@jupyter-widgets/base",
      "_view_module_version": "1.2.0",
      "_view_name": "StyleView",
      "description_width": ""
     }
    },
    "5d4b45afa5e2488b93e5783fed96e321": {
     "model_module": "@jupyter-widgets/controls",
     "model_module_version": "1.5.0",
     "model_name": "FloatProgressModel",
     "state": {
      "_dom_classes": [],
      "_model_module": "@jupyter-widgets/controls",
      "_model_module_version": "1.5.0",
      "_model_name": "FloatProgressModel",
      "_view_count": null,
      "_view_module": "@jupyter-widgets/controls",
      "_view_module_version": "1.5.0",
      "_view_name": "ProgressView",
      "bar_style": "success",
      "description": "",
      "description_tooltip": null,
      "layout": "IPY_MODEL_dd02dcbafd754cdda919a6db0df33673",
      "max": 22883,
      "min": 0,
      "orientation": "horizontal",
      "style": "IPY_MODEL_a9be91da3425445cb13fe4cc700d772d",
      "value": 22883
     }
    },
    "7ab5d845e60549238af993a7056cecc0": {
     "model_module": "@jupyter-widgets/controls",
     "model_module_version": "1.5.0",
     "model_name": "DescriptionStyleModel",
     "state": {
      "_model_module": "@jupyter-widgets/controls",
      "_model_module_version": "1.5.0",
      "_model_name": "DescriptionStyleModel",
      "_view_count": null,
      "_view_module": "@jupyter-widgets/base",
      "_view_module_version": "1.2.0",
      "_view_name": "StyleView",
      "description_width": ""
     }
    },
    "7b46fcd53f384570b87d5f4f54c64acc": {
     "model_module": "@jupyter-widgets/base",
     "model_module_version": "1.2.0",
     "model_name": "LayoutModel",
     "state": {
      "_model_module": "@jupyter-widgets/base",
      "_model_module_version": "1.2.0",
      "_model_name": "LayoutModel",
      "_view_count": null,
      "_view_module": "@jupyter-widgets/base",
      "_view_module_version": "1.2.0",
      "_view_name": "LayoutView",
      "align_content": null,
      "align_items": null,
      "align_self": null,
      "border": null,
      "bottom": null,
      "display": null,
      "flex": null,
      "flex_flow": null,
      "grid_area": null,
      "grid_auto_columns": null,
      "grid_auto_flow": null,
      "grid_auto_rows": null,
      "grid_column": null,
      "grid_gap": null,
      "grid_row": null,
      "grid_template_areas": null,
      "grid_template_columns": null,
      "grid_template_rows": null,
      "height": null,
      "justify_content": null,
      "justify_items": null,
      "left": null,
      "margin": null,
      "max_height": null,
      "max_width": null,
      "min_height": null,
      "min_width": null,
      "object_fit": null,
      "object_position": null,
      "order": null,
      "overflow": null,
      "overflow_x": null,
      "overflow_y": null,
      "padding": null,
      "right": null,
      "top": null,
      "visibility": null,
      "width": null
     }
    },
    "833b2f5fc84c4db689edc5dd99731a70": {
     "model_module": "@jupyter-widgets/base",
     "model_module_version": "1.2.0",
     "model_name": "LayoutModel",
     "state": {
      "_model_module": "@jupyter-widgets/base",
      "_model_module_version": "1.2.0",
      "_model_name": "LayoutModel",
      "_view_count": null,
      "_view_module": "@jupyter-widgets/base",
      "_view_module_version": "1.2.0",
      "_view_name": "LayoutView",
      "align_content": null,
      "align_items": null,
      "align_self": null,
      "border": null,
      "bottom": null,
      "display": null,
      "flex": null,
      "flex_flow": null,
      "grid_area": null,
      "grid_auto_columns": null,
      "grid_auto_flow": null,
      "grid_auto_rows": null,
      "grid_column": null,
      "grid_gap": null,
      "grid_row": null,
      "grid_template_areas": null,
      "grid_template_columns": null,
      "grid_template_rows": null,
      "height": null,
      "justify_content": null,
      "justify_items": null,
      "left": null,
      "margin": null,
      "max_height": null,
      "max_width": null,
      "min_height": null,
      "min_width": null,
      "object_fit": null,
      "object_position": null,
      "order": null,
      "overflow": null,
      "overflow_x": null,
      "overflow_y": null,
      "padding": null,
      "right": null,
      "top": null,
      "visibility": null,
      "width": null
     }
    },
    "8d77eb89c3d747e79efd1f7d745b5883": {
     "model_module": "@jupyter-widgets/base",
     "model_module_version": "1.2.0",
     "model_name": "LayoutModel",
     "state": {
      "_model_module": "@jupyter-widgets/base",
      "_model_module_version": "1.2.0",
      "_model_name": "LayoutModel",
      "_view_count": null,
      "_view_module": "@jupyter-widgets/base",
      "_view_module_version": "1.2.0",
      "_view_name": "LayoutView",
      "align_content": null,
      "align_items": null,
      "align_self": null,
      "border": null,
      "bottom": null,
      "display": null,
      "flex": null,
      "flex_flow": null,
      "grid_area": null,
      "grid_auto_columns": null,
      "grid_auto_flow": null,
      "grid_auto_rows": null,
      "grid_column": null,
      "grid_gap": null,
      "grid_row": null,
      "grid_template_areas": null,
      "grid_template_columns": null,
      "grid_template_rows": null,
      "height": null,
      "justify_content": null,
      "justify_items": null,
      "left": null,
      "margin": null,
      "max_height": null,
      "max_width": null,
      "min_height": null,
      "min_width": null,
      "object_fit": null,
      "object_position": null,
      "order": null,
      "overflow": null,
      "overflow_x": null,
      "overflow_y": null,
      "padding": null,
      "right": null,
      "top": null,
      "visibility": null,
      "width": null
     }
    },
    "91b4a46a4ceb460a922d4c882af792fb": {
     "model_module": "@jupyter-widgets/controls",
     "model_module_version": "1.5.0",
     "model_name": "HTMLModel",
     "state": {
      "_dom_classes": [],
      "_model_module": "@jupyter-widgets/controls",
      "_model_module_version": "1.5.0",
      "_model_name": "HTMLModel",
      "_view_count": null,
      "_view_module": "@jupyter-widgets/controls",
      "_view_module_version": "1.5.0",
      "_view_name": "HTMLView",
      "description": "",
      "description_tooltip": null,
      "layout": "IPY_MODEL_833b2f5fc84c4db689edc5dd99731a70",
      "placeholder": "​",
      "style": "IPY_MODEL_46849bd1b027480baf88dab488a46042",
      "value": "Downloading readme: 100%"
     }
    },
    "a2dd77a4b781486ea107cc801d48ccd5": {
     "model_module": "@jupyter-widgets/controls",
     "model_module_version": "1.5.0",
     "model_name": "HTMLModel",
     "state": {
      "_dom_classes": [],
      "_model_module": "@jupyter-widgets/controls",
      "_model_module_version": "1.5.0",
      "_model_name": "HTMLModel",
      "_view_count": null,
      "_view_module": "@jupyter-widgets/controls",
      "_view_module_version": "1.5.0",
      "_view_name": "HTMLView",
      "description": "",
      "description_tooltip": null,
      "layout": "IPY_MODEL_8d77eb89c3d747e79efd1f7d745b5883",
      "placeholder": "​",
      "style": "IPY_MODEL_7ab5d845e60549238af993a7056cecc0",
      "value": " 22.9k/22.9k [00:00&lt;00:00, 625kB/s]"
     }
    },
    "a9be91da3425445cb13fe4cc700d772d": {
     "model_module": "@jupyter-widgets/controls",
     "model_module_version": "1.5.0",
     "model_name": "ProgressStyleModel",
     "state": {
      "_model_module": "@jupyter-widgets/controls",
      "_model_module_version": "1.5.0",
      "_model_name": "ProgressStyleModel",
      "_view_count": null,
      "_view_module": "@jupyter-widgets/base",
      "_view_module_version": "1.2.0",
      "_view_name": "StyleView",
      "bar_color": null,
      "description_width": ""
     }
    },
    "cca51da725594073bd449ff599cb95e9": {
     "model_module": "@jupyter-widgets/controls",
     "model_module_version": "1.5.0",
     "model_name": "HBoxModel",
     "state": {
      "_dom_classes": [],
      "_model_module": "@jupyter-widgets/controls",
      "_model_module_version": "1.5.0",
      "_model_name": "HBoxModel",
      "_view_count": null,
      "_view_module": "@jupyter-widgets/controls",
      "_view_module_version": "1.5.0",
      "_view_name": "HBoxView",
      "box_style": "",
      "children": [
       "IPY_MODEL_91b4a46a4ceb460a922d4c882af792fb",
       "IPY_MODEL_5d4b45afa5e2488b93e5783fed96e321",
       "IPY_MODEL_a2dd77a4b781486ea107cc801d48ccd5"
      ],
      "layout": "IPY_MODEL_7b46fcd53f384570b87d5f4f54c64acc"
     }
    },
    "dd02dcbafd754cdda919a6db0df33673": {
     "model_module": "@jupyter-widgets/base",
     "model_module_version": "1.2.0",
     "model_name": "LayoutModel",
     "state": {
      "_model_module": "@jupyter-widgets/base",
      "_model_module_version": "1.2.0",
      "_model_name": "LayoutModel",
      "_view_count": null,
      "_view_module": "@jupyter-widgets/base",
      "_view_module_version": "1.2.0",
      "_view_name": "LayoutView",
      "align_content": null,
      "align_items": null,
      "align_self": null,
      "border": null,
      "bottom": null,
      "display": null,
      "flex": null,
      "flex_flow": null,
      "grid_area": null,
      "grid_auto_columns": null,
      "grid_auto_flow": null,
      "grid_auto_rows": null,
      "grid_column": null,
      "grid_gap": null,
      "grid_row": null,
      "grid_template_areas": null,
      "grid_template_columns": null,
      "grid_template_rows": null,
      "height": null,
      "justify_content": null,
      "justify_items": null,
      "left": null,
      "margin": null,
      "max_height": null,
      "max_width": null,
      "min_height": null,
      "min_width": null,
      "object_fit": null,
      "object_position": null,
      "order": null,
      "overflow": null,
      "overflow_x": null,
      "overflow_y": null,
      "padding": null,
      "right": null,
      "top": null,
      "visibility": null,
      "width": null
     }
    }
   }
  }
 },
 "nbformat": 4,
 "nbformat_minor": 4
}
